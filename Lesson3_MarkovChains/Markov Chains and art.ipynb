{
 "metadata": {
  "name": ""
 },
 "nbformat": 3,
 "nbformat_minor": 0,
 "worksheets": [
  {
   "cells": [
    {
     "cell_type": "heading",
     "level": 2,
     "metadata": {},
     "source": [
      "Markov Chains and art"
     ]
    },
    {
     "cell_type": "markdown",
     "metadata": {},
     "source": [
      "The [National Gallery of Art](http://www.nga.gov/content/ngaweb.html) puts thumbnails and descriptions of the works in their collection online. One could, theoretically, crawl these descriptions and process them."
     ]
    },
    {
     "cell_type": "code",
     "collapsed": false,
     "input": [
      "import pickle\n",
      "import random\n",
      "\n",
      "art = pickle.load(open('art.pickle'))"
     ],
     "language": "python",
     "metadata": {},
     "outputs": [],
     "prompt_number": 22
    },
    {
     "cell_type": "markdown",
     "metadata": {},
     "source": [
      "The thumbnails are really interesting. Each one looks like this: <img src=\"http://media.nga.gov/public/supplemental/objects/1/0/7/7/6/4/107764-crop-0-90x90.jpg\" />\n",
      "\n",
      "...and you can play with them to end up with images like this one, which shows the average color of each thumbnail (where each square represents a unique work of art):\n",
      "\n",
      "<img src=\"http://25.media.tumblr.com/c35ed306e3af0ca4b9aef0beff92b8a2/tumblr_mkiepmL5ot1qz7bx4o1_1280.png\" width=\"300\" />"
     ]
    },
    {
     "cell_type": "markdown",
     "metadata": {},
     "source": [
      "...and if you look at the descriptions, you might end up with a data structure like this:"
     ]
    },
    {
     "cell_type": "code",
     "collapsed": false,
     "input": [
      "print art[0]"
     ],
     "language": "python",
     "metadata": {},
     "outputs": [
      {
       "output_type": "stream",
       "stream": "stdout",
       "text": [
        "{'name': 'Saint Paul', 'artist': 'Bernardo Daddi', 'material': 'tempera on panel', 'year': '1333', 'thumbnail': 'http://www.nga.gov:80/thumb-l/a000c6/a000c643.jpg', 'desc': 'The narrow shape and large size of this panel suggest it was meant to hang against a colossal pillar in a church. The original frame utilizes decorative motifs similar to those in the borders of Gothic illuminated manuscripts.\\n Saint Paul holds a book, recalling the Epistles he wrote. The sword he displays has several meanings: his early career as a Roman soldier; his position as defender of the Christian faith; and the instrument of his martyrdom by beheading. The great dignity of his erect figure and the monumental effect of the drapery correspond to his stern, direct gaze. His imposing presence implies that the painter Bernardo Daddi may have been a pupil of \\n A sweeter, gentler mood emanates from the small figures representing the donors who commissioned this painting. Although depictions of donors are not unusual in Gothic art, it is rare to find so many husbands and wives shown kneeling together. The couples are separated, just as men and women were while worshiping in church during the Middle Ages.\\n '}\n"
       ]
      }
     ],
     "prompt_number": 26
    },
    {
     "cell_type": "markdown",
     "metadata": {},
     "source": [
      "The best kind of probabilistic mischief we can get up to with data like this is a structure called a Markov Chain."
     ]
    },
    {
     "cell_type": "code",
     "collapsed": false,
     "input": [
      "# only run this code if we haven't run it already (to save time)\n",
      "try:\n",
      "    trigrams = pickle.load(open('trigrams.pickle'))\n",
      "except IOError:\n",
      "    all_art = pickle.load(open('art.pickle'))\n",
      "\n",
      "    text_data = ''\n",
      "    for art in all_art: # deconstruct the descriptions of the works of art\n",
      "        if art.get('desc',''):\n",
      "            text_data += art['desc'] # add all descriptions of art into one variable\n",
      "\n",
      "        text = [w.lower() for w in text_data.split()] #break it apart\n",
      "        trigrams = []\n",
      "        for i in range(0, len(text)-2):\n",
      "            trigrams.append((text[i], text[i+1], text[i+2])) # build all trigrams\n",
      "\n",
      "random_seed = ' '.join(random.choice(trigrams))\n",
      "print random_seed\n"
     ],
     "language": "python",
     "metadata": {},
     "outputs": [
      {
       "output_type": "stream",
       "stream": "stdout",
       "text": [
        "with c&eacute;zanne in\n"
       ]
      }
     ],
     "prompt_number": 27
    },
    {
     "cell_type": "code",
     "collapsed": false,
     "input": [
      "# build lookup table\n",
      "lookup_table = {}\n",
      "for w1, w2, w3 in trigrams:\n",
      "    lookup_table.setdefault((w1, w2), []).append(w3)"
     ],
     "language": "python",
     "metadata": {},
     "outputs": [],
     "prompt_number": 14
    },
    {
     "cell_type": "code",
     "collapsed": false,
     "input": [
      "#input_text = \"against this\"\n",
      "input_text = random_seed # we need some text to start with!\n",
      "max_len = 40 # [n] words, please\n",
      "seed_word, next_word = input_text.split()[-2:]\n",
      "        \n",
      "fake_art = []\n",
      "for i in range(max_len): # for each word we need to generate...\n",
      "    fake_art.append(next_word) # append the next word\n",
      "    try: # pick a random choice from the lookup table\n",
      "        seed_word, next_word = next_word, random.choice(lookup_table[(seed_word, next_word)])\n",
      "    except KeyError:\n",
      "        seed_word, next_word = random.choice(lookup_table.keys()) # if there isn't anything\n",
      "        # ... pick something random\n",
      "        \n",
      "fake_art.append(next_word)\n",
      "print  ' '.join(fake_art)\n"
     ],
     "language": "python",
     "metadata": {},
     "outputs": [
      {
       "output_type": "stream",
       "stream": "stdout",
       "text": [
        "drawn with sketchy parallel strokes, probably with charcoal or black chalk. in the foreground, the draperylike framing, the clear, bright, color scheme, with its brilliant emerald green surface distinguish it from the innocence of childhood, to the fervid drama is the\n"
       ]
      }
     ],
     "prompt_number": 16
    }
   ],
   "metadata": {}
  }
 ]
}