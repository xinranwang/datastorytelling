{
 "metadata": {
  "name": ""
 },
 "nbformat": 3,
 "nbformat_minor": 0,
 "worksheets": [
  {
   "cells": [
    {
     "cell_type": "code",
     "collapsed": false,
     "input": [
      "import re\n",
      "import string\n",
      "\n",
      "def FreqDist(words):\n",
      "    \"\"\"\n",
      "    FreqDist: Accepts a string of words and returns a dictionary of form {'word': count}\n",
      "    \"\"\"\n",
      "    data = {}\n",
      "    for word in words.split():\n",
      "        data[word] = data.get(word, 0) + 1\n",
      "    return data"
     ],
     "language": "python",
     "metadata": {},
     "outputs": [],
     "prompt_number": 1
    },
    {
     "cell_type": "code",
     "collapsed": false,
     "input": [
      "sentence = \"I like and I like.\"\n",
      "print FreqDist(sentence)"
     ],
     "language": "python",
     "metadata": {},
     "outputs": [
      {
       "output_type": "stream",
       "stream": "stdout",
       "text": [
        "{'I': 2, 'and': 1, 'like': 1, 'like.': 1}\n"
       ]
      }
     ],
     "prompt_number": 6
    },
    {
     "cell_type": "code",
     "collapsed": false,
     "input": [
      "class NaiveBayesClassifier(object):\n",
      "    \n",
      "    def __init__(self):\n",
      "        self.feature_count = {}\n",
      "        self.category_count = {}\n",
      "    \n",
      "    def probability(self, item, category):\n",
      "        \"\"\"\n",
      "        probability: prob that an item is in a category\n",
      "        \"\"\"\n",
      "        category_prob = self.get_category_count(category) / sum(self.category_count.values())\n",
      "        return self.document_probability(item, category) * category_prob\n",
      "    \n",
      "    def document_probability(self, item, category):\n",
      "        features = self.get_features(item)\n",
      "        \n",
      "        p = 1\n",
      "        for feature in features:\n",
      "            print \"%s - %s - %s\" % (feature, category, self.weighted_prob(feature, category))\n",
      "            p *= self.weighted_prob(feature, category)\n",
      "            \n",
      "        return p\n",
      "        \n",
      "    def train_from_data(self, data):\n",
      "        for category, documents in data.items():\n",
      "            for doc in documents:\n",
      "                self.train(doc, category)   \n",
      "        # print self.feature_count\n",
      "        \n",
      "    def get_features(self, document):\n",
      "        all_words_freq = FreqDist(document)\n",
      "        #print sorted(all_words_freq.items(), key=lambda(w,c):(-c, w))\n",
      "        return all_words_freq\n",
      "                \n",
      "    def increment_feature(self, feature, category):\n",
      "        self.feature_count.setdefault(feature,{})\n",
      "        self.feature_count[feature].setdefault(category, 0)\n",
      "        self.feature_count[feature][category] += 1\n",
      "        \n",
      "    def increment_cat(self, category):\n",
      "        self.category_count.setdefault(category, 0)\n",
      "        self.category_count[category] += 1\n",
      "        \n",
      "    def get_feature_count(self, feature, category):\n",
      "        if feature in self.feature_count and category in self.feature_count[feature]:\n",
      "            return float(self.feature_count[feature][category])\n",
      "        else:\n",
      "            return 0.0\n",
      "            \n",
      "    def get_category_count(self, category):\n",
      "        if category in self.category_count:\n",
      "            return float(self.category_count[category])\n",
      "        else:\n",
      "            return 0.0\n",
      "    \n",
      "    def feature_prob(self, f, category): # Pr(A|B)\n",
      "        if self.get_category_count(category) == 0:\n",
      "            return 0\n",
      "        \n",
      "        return (self.get_feature_count(f, category) / self.get_category_count(category))\n",
      "        \n",
      "    def weighted_prob(self, f, category, weight=1.0, ap=0.5):\n",
      "        basic_prob = self.feature_prob(f, category)\n",
      "        \n",
      "        totals = sum([self.get_feature_count(f, category) for category in self.category_count.keys()])\n",
      "        \n",
      "        w_prob = ((weight*ap) + (totals * basic_prob)) / (weight + totals)\n",
      "        return w_prob\n",
      "            \n",
      "    def train(self, item, category):\n",
      "        print item\n",
      "        features = self.get_features(item)\n",
      "        print features\n",
      "        \n",
      "        for f in features:\n",
      "            self.increment_feature(f, category)\n",
      "        \n",
      "        self.increment_cat(category)"
     ],
     "language": "python",
     "metadata": {},
     "outputs": [],
     "prompt_number": 2
    },
    {
     "cell_type": "code",
     "collapsed": false,
     "input": [
      "nb = NaiveBayesClassifier()"
     ],
     "language": "python",
     "metadata": {},
     "outputs": [],
     "prompt_number": 3
    },
    {
     "cell_type": "code",
     "collapsed": false,
     "input": [
      "data = {'art': [\"trumpet piano paint draw dance\"], 'sports': [\"dance swim fight\"]}\n",
      "nb.train_from_data(data)\n",
      "\n",
      "# data = {}\n",
      "# f = open('politics.txt')\n",
      "# data['politics'] = [f.read()]\n",
      "# fo.close\n",
      "\n",
      "# f = open('health.txt')\n",
      "# data['health'] = [f.read()]\n",
      "# fo.close\n",
      "\n",
      "# nb.train_from_data(data)"
     ],
     "language": "python",
     "metadata": {},
     "outputs": [
      {
       "output_type": "stream",
       "stream": "stdout",
       "text": [
        "trumpet piano paint draw dance\n",
        "{'dance': 1, 'paint': 1, 'piano': 1, 'trumpet': 1, 'draw': 1}\n",
        "dance swim fight\n",
        "{'dance': 1, 'swim': 1, 'fight': 1}\n"
       ]
      }
     ],
     "prompt_number": 4
    },
    {
     "cell_type": "code",
     "collapsed": false,
     "input": [
      "print nb.probability(\"dance draw arglebargle\", 'art')\n",
      "print nb.probability(\"dance draw arglebargle\", 'sports')"
     ],
     "language": "python",
     "metadata": {},
     "outputs": [
      {
       "output_type": "stream",
       "stream": "stdout",
       "text": [
        "dance - art - 0.833333333333\n",
        "draw - art - 0.75\n",
        "arglebargle - art - 0.5\n",
        "0.15625\n",
        "dance - sports - 0.833333333333\n",
        "draw - sports - 0.25\n",
        "arglebargle - sports - 0.5\n",
        "0.0520833333333\n"
       ]
      }
     ],
     "prompt_number": 5
    },
    {
     "cell_type": "code",
     "collapsed": false,
     "input": [],
     "language": "python",
     "metadata": {},
     "outputs": []
    }
   ],
   "metadata": {}
  }
 ]
}