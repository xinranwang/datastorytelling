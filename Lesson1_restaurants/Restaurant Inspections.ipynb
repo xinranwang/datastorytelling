{
 "metadata": {
  "name": ""
 },
 "nbformat": 3,
 "nbformat_minor": 0,
 "worksheets": [
  {
   "cells": [
    {
     "cell_type": "heading",
     "level": 2,
     "metadata": {},
     "source": [
      "Restaurant Inspection Analysis"
     ]
    },
    {
     "cell_type": "markdown",
     "metadata": {},
     "source": [
      "For today's project, we'll be using public restaurant inspection data from New York City. Specifically, we'll be looking at all inspection scores for _hamburger_ restaurants (yes, this is a category of restaurants).\n",
      "\n",
      "First, let's load the data."
     ]
    },
    {
     "cell_type": "code",
     "collapsed": false,
     "input": [
      "restaurant_data = mlab.csv2rec(\"data/hamburgers.txt\")"
     ],
     "language": "python",
     "metadata": {},
     "outputs": [],
     "prompt_number": 23
    },
    {
     "cell_type": "markdown",
     "metadata": {},
     "source": [
      "...and let's take a look at the first row.\n",
      "\n",
      "If we look at the raw data file, the headers are:"
     ]
    },
    {
     "cell_type": "raw",
     "metadata": {},
     "source": [
      "\"CAMIS\",\"DBA\",\"BORO\",\"BUILDING\",\"STREET\",\"ZIPCODE\",\"PHONE\",\"CUISINECODE\",\"INSPDATE\",\"ACTION\",\"VIOLCODE\",\"SCORE\",\"CURRENTGRADE\",\"GRADEDATE\",\"RECORDDATE\""
     ]
    },
    {
     "cell_type": "code",
     "collapsed": false,
     "input": [
      "restaurant_data[0]"
     ],
     "language": "python",
     "metadata": {},
     "outputs": [
      {
       "metadata": {},
       "output_type": "pyout",
       "prompt_number": 3,
       "text": [
        "(30112340, \"WENDY'S\", 3, '469', 'FLATBUSH AVENUE', 11225, 7182875005, 39, datetime.datetime(2013, 4, 30, 0, 0), 'D', '10F', 12, 'A', datetime.date(2013, 4, 30), datetime.datetime(2013, 8, 30, 1, 1, 8, 80000))"
       ]
      }
     ],
     "prompt_number": 3
    },
    {
     "cell_type": "code",
     "collapsed": false,
     "input": [
      "scores = []\n",
      "for restaurant in restaurant_data:\n",
      "    scores.append(restaurant[11])\n",
      "#     print restaurant[1]\n",
      "#     print restaurant[11]\n",
      "#     print restaurant[12]\n"
     ],
     "language": "python",
     "metadata": {},
     "outputs": [],
     "prompt_number": 4
    },
    {
     "cell_type": "markdown",
     "metadata": {},
     "source": [
      "Now, let's get a sense of the data."
     ]
    },
    {
     "cell_type": "code",
     "collapsed": false,
     "input": [
      "min(scores)"
     ],
     "language": "python",
     "metadata": {},
     "outputs": [
      {
       "metadata": {},
       "output_type": "pyout",
       "prompt_number": 5,
       "text": [
        "-1"
       ]
      }
     ],
     "prompt_number": 5
    },
    {
     "cell_type": "code",
     "collapsed": false,
     "input": [
      "max(scores)"
     ],
     "language": "python",
     "metadata": {},
     "outputs": [
      {
       "metadata": {},
       "output_type": "pyout",
       "prompt_number": 6,
       "text": [
        "98"
       ]
      }
     ],
     "prompt_number": 6
    },
    {
     "cell_type": "code",
     "collapsed": false,
     "input": [
      "plt.plot(scores)"
     ],
     "language": "python",
     "metadata": {},
     "outputs": [
      {
       "metadata": {},
       "output_type": "pyout",
       "prompt_number": 7,
       "text": [
        "[<matplotlib.lines.Line2D at 0x105694b50>]"
       ]
      },
      {
       "metadata": {},
       "output_type": "display_data",
       "png": "[encoded data removed]",
       "text": [
        "<matplotlib.figure.Figure at 0x105668d90>"
       ]
      }
     ],
     "prompt_number": 7
    },
    {
     "cell_type": "markdown",
     "metadata": {},
     "source": [
      "Well, that's not useful!"
     ]
    },
    {
     "cell_type": "code",
     "collapsed": false,
     "input": [
      "n, bins, patches = pyplot.hist(scores)"
     ],
     "language": "python",
     "metadata": {},
     "outputs": [
      {
       "metadata": {},
       "output_type": "display_data",
       "png": "[encoded data removed]",
       "text": [
        "<matplotlib.figure.Figure at 0x105819d10>"
       ]
      }
     ],
     "prompt_number": 8
    },
    {
     "cell_type": "code",
     "collapsed": false,
     "input": [],
     "language": "python",
     "metadata": {},
     "outputs": [],
     "prompt_number": 8
    },
    {
     "cell_type": "code",
     "collapsed": false,
     "input": [],
     "language": "python",
     "metadata": {},
     "outputs": [],
     "prompt_number": 8
    },
    {
     "cell_type": "markdown",
     "metadata": {},
     "source": [
      "That's much more interesting.\n",
      "\n",
      "If you look at the restaurant evaluation documentation, you'll find this:\n",
      "\n",
      "\"Restaurants with a score between 0 and 13 points earn an A, those with 14 to 27 points receive a B and those with 28\n",
      "or more a C. Inspection results are posted on the Health Department\u2019s website.\""
     ]
    },
    {
     "cell_type": "code",
     "collapsed": false,
     "input": [
      "for record in restaurant_data:\n",
      "    if record[11] == 98:\n",
      "        print record\n",
      "        break"
     ],
     "language": "python",
     "metadata": {},
     "outputs": [
      {
       "output_type": "stream",
       "stream": "stdout",
       "text": [
        "(41094277, \"JIMBO'S HAMBURGER PLACE\", 2, '690', 'MELROSE AVENUE', 10455, 7182928032, 39, datetime.datetime(2010, 9, 17, 0, 0), 'F', '04L', 98, '', datetime.date(1, 1, 1), datetime.datetime(2013, 8, 30, 1, 1, 8, 80000))\n"
       ]
      }
     ],
     "prompt_number": 9
    },
    {
     "cell_type": "markdown",
     "metadata": {},
     "source": [
      "<img src=\"https://lh4.googleusercontent.com/-kI9HkFrcgAA/UbiCiXsCoCI/AAAAAAAACSg/HxKeqEb9W0g/s512/2013-06-12\" style=\"float:right;margin:10px;\" />\n",
      "\n",
      "We've found the worst (for some value of \"worst\") burger joint in Manhattan."
     ]
    },
    {
     "cell_type": "code",
     "collapsed": false,
     "input": [
      "numpy.median(scores)"
     ],
     "language": "python",
     "metadata": {},
     "outputs": [
      {
       "metadata": {},
       "output_type": "pyout",
       "prompt_number": 10,
       "text": [
        "15.0"
       ]
      }
     ],
     "prompt_number": 10
    },
    {
     "cell_type": "code",
     "collapsed": false,
     "input": [
      "# numpy.mean(scores) # we have two options for calculating the mean. since our data is a list, we can use the mean function...\n",
      "\n",
      "scores = numpy.asarray(scores) # ...or we can convert the data to a numpy array\n",
      "scores.mean() #... which comes with some special powers"
     ],
     "language": "python",
     "metadata": {},
     "outputs": [
      {
       "metadata": {},
       "output_type": "pyout",
       "prompt_number": 11,
       "text": [
        "18.208462086997862"
       ]
      }
     ],
     "prompt_number": 11
    },
    {
     "cell_type": "markdown",
     "metadata": {},
     "source": [
      "What does this mean and median tell us?\n",
      "\n",
      "[this is the part where I rant, in class, about averages.]"
     ]
    },
    {
     "cell_type": "code",
     "collapsed": false,
     "input": [
      "scores.var()"
     ],
     "language": "python",
     "metadata": {},
     "outputs": [
      {
       "metadata": {},
       "output_type": "pyout",
       "prompt_number": 12,
       "text": [
        "173.0772946873557"
       ]
      }
     ],
     "prompt_number": 12
    },
    {
     "cell_type": "code",
     "collapsed": false,
     "input": [
      "numpy.std(scores)"
     ],
     "language": "python",
     "metadata": {},
     "outputs": [
      {
       "metadata": {},
       "output_type": "pyout",
       "prompt_number": 13,
       "text": [
        "13.155884412967291"
       ]
      }
     ],
     "prompt_number": 13
    },
    {
     "cell_type": "markdown",
     "metadata": {},
     "source": [
      "Let's talk about variance and [standard deviation](http://en.wikipedia.org/wiki/Standard_deviation)!\n",
      "\n",
      "Now, for comparison, let's play with some random data."
     ]
    },
    {
     "cell_type": "code",
     "collapsed": false,
     "input": [
      "import scipy\n",
      "\n",
      "random_data = scipy.randn(1000)"
     ],
     "language": "python",
     "metadata": {},
     "outputs": [],
     "prompt_number": 163
    },
    {
     "cell_type": "code",
     "collapsed": false,
     "input": [
      "plt.plot(random_data)"
     ],
     "language": "python",
     "metadata": {},
     "outputs": [
      {
       "metadata": {},
       "output_type": "pyout",
       "prompt_number": 164,
       "text": [
        "[<matplotlib.lines.Line2D at 0x1058ee850>]"
       ]
      },
      {
       "metadata": {},
       "output_type": "display_data",
       "png": "[encoded data removed]",
       "text": [
        "<matplotlib.figure.Figure at 0x105f74d50>"
       ]
      }
     ],
     "prompt_number": 164
    },
    {
     "cell_type": "code",
     "collapsed": false,
     "input": [
      "random_data.mean()"
     ],
     "language": "python",
     "metadata": {},
     "outputs": [
      {
       "metadata": {},
       "output_type": "pyout",
       "prompt_number": 165,
       "text": [
        "-0.00022751506740750738"
       ]
      }
     ],
     "prompt_number": 165
    },
    {
     "cell_type": "code",
     "collapsed": false,
     "input": [
      "random_data.var()"
     ],
     "language": "python",
     "metadata": {},
     "outputs": [
      {
       "metadata": {},
       "output_type": "pyout",
       "prompt_number": 166,
       "text": [
        "0.88764521219235215"
       ]
      }
     ],
     "prompt_number": 166
    },
    {
     "cell_type": "code",
     "collapsed": false,
     "input": [
      "random_data.std()"
     ],
     "language": "python",
     "metadata": {},
     "outputs": [
      {
       "metadata": {},
       "output_type": "pyout",
       "prompt_number": 167,
       "text": [
        "0.9421492515479446"
       ]
      }
     ],
     "prompt_number": 167
    },
    {
     "cell_type": "code",
     "collapsed": false,
     "input": [
      "plt.hist(random_data)"
     ],
     "language": "python",
     "metadata": {},
     "outputs": [
      {
       "metadata": {},
       "output_type": "pyout",
       "prompt_number": 168,
       "text": [
        "(array([   9.,   36.,   84.,  177.,  281.,  218.,  122.,   52.,   16.,    5.]),\n",
        " array([-2.83997205, -2.23914286, -1.63831367, -1.03748449, -0.4366553 ,\n",
        "        0.16417389,  0.76500308,  1.36583226,  1.96666145,  2.56749064,\n",
        "        3.16831983]),\n",
        " <a list of 10 Patch objects>)"
       ]
      },
      {
       "metadata": {},
       "output_type": "display_data",
       "png": "[encoded data removed]",
       "text": [
        "<matplotlib.figure.Figure at 0x1089232d0>"
       ]
      }
     ],
     "prompt_number": 168
    },
    {
     "cell_type": "code",
     "collapsed": false,
     "input": [
      "n, min_max, mean, var, skew, kurt = stats.describe(random_data)\n",
      "print n # num of items in dataset\n",
      "print min_max # min and max values\n",
      "print mean # average\n",
      "print var # variance \n",
      "print skew # biased to one side or another\n",
      "print kurt"
     ],
     "language": "python",
     "metadata": {},
     "outputs": [
      {
       "ename": "NameError",
       "evalue": "name 'stats' is not defined",
       "output_type": "pyerr",
       "traceback": [
        "\u001b[0;31m---------------------------------------------------------------------------\u001b[0m\n\u001b[0;31mNameError\u001b[0m                                 Traceback (most recent call last)",
        "\u001b[0;32m<ipython-input-169-95b9184c48c2>\u001b[0m in \u001b[0;36m<module>\u001b[0;34m()\u001b[0m\n\u001b[0;32m----> 1\u001b[0;31m \u001b[0mn\u001b[0m\u001b[0;34m,\u001b[0m \u001b[0mmin_max\u001b[0m\u001b[0;34m,\u001b[0m \u001b[0mmean\u001b[0m\u001b[0;34m,\u001b[0m \u001b[0mvar\u001b[0m\u001b[0;34m,\u001b[0m \u001b[0mskew\u001b[0m\u001b[0;34m,\u001b[0m \u001b[0mkurt\u001b[0m \u001b[0;34m=\u001b[0m \u001b[0mstats\u001b[0m\u001b[0;34m.\u001b[0m\u001b[0mdescribe\u001b[0m\u001b[0;34m(\u001b[0m\u001b[0mrandom_data\u001b[0m\u001b[0;34m)\u001b[0m\u001b[0;34m\u001b[0m\u001b[0m\n\u001b[0m\u001b[1;32m      2\u001b[0m \u001b[0;32mprint\u001b[0m \u001b[0mn\u001b[0m \u001b[0;31m# num of items in dataset\u001b[0m\u001b[0;34m\u001b[0m\u001b[0m\n\u001b[1;32m      3\u001b[0m \u001b[0;32mprint\u001b[0m \u001b[0mmin_max\u001b[0m \u001b[0;31m# min and max values\u001b[0m\u001b[0;34m\u001b[0m\u001b[0m\n\u001b[1;32m      4\u001b[0m \u001b[0;32mprint\u001b[0m \u001b[0mmean\u001b[0m \u001b[0;31m# average\u001b[0m\u001b[0;34m\u001b[0m\u001b[0m\n\u001b[1;32m      5\u001b[0m \u001b[0;32mprint\u001b[0m \u001b[0mvar\u001b[0m \u001b[0;31m# variance\u001b[0m\u001b[0;34m\u001b[0m\u001b[0m\n",
        "\u001b[0;31mNameError\u001b[0m: name 'stats' is not defined"
       ]
      }
     ],
     "prompt_number": 169
    },
    {
     "cell_type": "markdown",
     "metadata": {},
     "source": [
      "There are so many questions to ask!\n",
      "\n",
      " * Where should I go to get burgers near NYU?\n",
      " * How do burger restaurant scores compare, overall, to Japanese restaurants? Why might this be?\n",
      " * Are there any cuisines for which the variance of scores is very high? Why do you think that might be the case?\n",
      " * Pick another question: What's the most hygenic food? Is one burough better than others? How are the scores distributed by letter? Do vegan restaurants score differently? What's the most common violation code?"
     ]
    },
    {
     "cell_type": "markdown",
     "metadata": {},
     "source": [
      "## Where should I go to get burgers near NYU?"
     ]
    },
    {
     "cell_type": "code",
     "collapsed": false,
     "input": [
      "# Remove duplicate records # should choose the most recent record\n",
      "new_data = []\n",
      "restaurant_id = []\n",
      "for idx, record in enumerate(restaurant_data):\n",
      "    if record[0] not in restaurant_id:\n",
      "        restaurant_id.append(record[0])\n",
      "        new_data.append(record)"
     ],
     "language": "python",
     "metadata": {},
     "outputs": [],
     "prompt_number": 47
    },
    {
     "cell_type": "code",
     "collapsed": false,
     "input": [
      "# Finding restaurants whose zip code 10003\n",
      "for record in new_data:\n",
      "    if record[5] == 10003 and record[11] < 13:\n",
      "        print record[1], record[3], record[4], record[5]"
     ],
     "language": "python",
     "metadata": {},
     "outputs": [
      {
       "output_type": "stream",
       "stream": "stdout",
       "text": [
        "MCDONALD'S 27 3 AVENUE 10003\n",
        "WENDY'S 20 EAST   14 STREET 10003\n",
        "MCDONALD'S 39 UNION SQUARE WEST 10003\n",
        "BLUE 9 BURGER 92 3 AVENUE 10003\n",
        "PAULS DA BURGER JOINT 131 2 AVENUE 10003\n",
        "MARK 33 ST MARKS PLACE 10003\n",
        "POPS 42 EAST    8 STREET 10003\n",
        "BAREBURGER 85 2 AVENUE 10003\n",
        "CLARKE'S STANDARD 870 BROADWAY 10003\n"
       ]
      }
     ],
     "prompt_number": 48
    },
    {
     "cell_type": "markdown",
     "metadata": {},
     "source": [
      "## How do burger restaurant scores compare, overall, to Japanese restaurants? Why might this be?"
     ]
    },
    {
     "cell_type": "code",
     "collapsed": false,
     "input": [
      "japanese_data = mlab.csv2rec(\"data/japanese.txt\")\n",
      "\n",
      "# Remove duplicate records\n",
      "new_japanese_data = []\n",
      "restaurant_id = []\n",
      "for idx, record in enumerate(japanese_data):\n",
      "    if record[0] not in restaurant_id:\n",
      "        restaurant_id.append(record[0])\n",
      "        new_japanese_data.append(record)\n",
      "\n",
      "j_scores = []\n",
      "for restaurant in japanese_data:\n",
      "    j_scores.append(restaurant[11])"
     ],
     "language": "python",
     "metadata": {},
     "outputs": [],
     "prompt_number": 56
    },
    {
     "cell_type": "code",
     "collapsed": false,
     "input": [
      "h_scores = []\n",
      "for restaurant in new_data:\n",
      "    h_scores.append(restaurant[11])"
     ],
     "language": "python",
     "metadata": {},
     "outputs": [],
     "prompt_number": 67
    },
    {
     "cell_type": "code",
     "collapsed": false,
     "input": [
      "numpy.median(h_scores)"
     ],
     "language": "python",
     "metadata": {},
     "outputs": [
      {
       "metadata": {},
       "output_type": "pyout",
       "prompt_number": 68,
       "text": [
        "10.0"
       ]
      }
     ],
     "prompt_number": 68
    },
    {
     "cell_type": "code",
     "collapsed": false,
     "input": [
      "numpy.median(j_scores)"
     ],
     "language": "python",
     "metadata": {},
     "outputs": [
      {
       "metadata": {},
       "output_type": "pyout",
       "prompt_number": 57,
       "text": [
        "24.0"
       ]
      }
     ],
     "prompt_number": 57
    },
    {
     "cell_type": "code",
     "collapsed": false,
     "input": [
      "min(h_scores)"
     ],
     "language": "python",
     "metadata": {},
     "outputs": [
      {
       "metadata": {},
       "output_type": "pyout",
       "prompt_number": 70,
       "text": [
        "-1"
       ]
      }
     ],
     "prompt_number": 70
    },
    {
     "cell_type": "code",
     "collapsed": false,
     "input": [
      "min(j_scores)"
     ],
     "language": "python",
     "metadata": {},
     "outputs": [
      {
       "metadata": {},
       "output_type": "pyout",
       "prompt_number": 58,
       "text": [
        "-1"
       ]
      }
     ],
     "prompt_number": 58
    },
    {
     "cell_type": "code",
     "collapsed": false,
     "input": [
      "max(h_scores)"
     ],
     "language": "python",
     "metadata": {},
     "outputs": [
      {
       "metadata": {},
       "output_type": "pyout",
       "prompt_number": 72,
       "text": [
        "43"
       ]
      }
     ],
     "prompt_number": 72
    },
    {
     "cell_type": "code",
     "collapsed": false,
     "input": [
      "max(j_scores)"
     ],
     "language": "python",
     "metadata": {},
     "outputs": [
      {
       "metadata": {},
       "output_type": "pyout",
       "prompt_number": 59,
       "text": [
        "133"
       ]
      }
     ],
     "prompt_number": 59
    },
    {
     "cell_type": "code",
     "collapsed": false,
     "input": [
      "n, bins, patches = pyplot.hist(h_scores)"
     ],
     "language": "python",
     "metadata": {},
     "outputs": [
      {
       "metadata": {},
       "output_type": "display_data",
       "png": "[encoded data removed]",
       "text": [
        "<matplotlib.figure.Figure at 0x105f7da50>"
       ]
      }
     ],
     "prompt_number": 73
    },
    {
     "cell_type": "code",
     "collapsed": false,
     "input": [
      "n, bins, patches = pyplot.hist(j_scores)"
     ],
     "language": "python",
     "metadata": {},
     "outputs": [
      {
       "metadata": {},
       "output_type": "display_data",
       "png": "[encoded data removed]",
       "text": [
        "<matplotlib.figure.Figure at 0x10893e950>"
       ]
      }
     ],
     "prompt_number": 60
    },
    {
     "cell_type": "code",
     "collapsed": false,
     "input": [
      "numpy.std(h_scores)"
     ],
     "language": "python",
     "metadata": {},
     "outputs": [
      {
       "metadata": {},
       "output_type": "pyout",
       "prompt_number": 74,
       "text": [
        "5.5981260497960399"
       ]
      }
     ],
     "prompt_number": 74
    },
    {
     "cell_type": "code",
     "collapsed": false,
     "input": [
      "numpy.std(j_scores)"
     ],
     "language": "python",
     "metadata": {},
     "outputs": [
      {
       "metadata": {},
       "output_type": "pyout",
       "prompt_number": 75,
       "text": [
        "17.90266902461412"
       ]
      }
     ],
     "prompt_number": 75
    },
    {
     "cell_type": "markdown",
     "metadata": {},
     "source": [
      "Burgur restaurants' inspection result is much better than Japanese restaurants'. "
     ]
    },
    {
     "cell_type": "markdown",
     "metadata": {},
     "source": [
      "## Are there any cuisines for which the variance of scores is very high? Why do you think that might be the case?"
     ]
    },
    {
     "cell_type": "code",
     "collapsed": false,
     "input": [
      "all_data = mlab.csv2rec(\"data/original data/WebExtract.txt\")"
     ],
     "language": "python",
     "metadata": {},
     "outputs": [],
     "prompt_number": 77
    },
    {
     "cell_type": "code",
     "collapsed": false,
     "input": [
      "# Remove duplicate records\n",
      "new_all_data = []\n",
      "restaurant_id = []\n",
      "for idx, record in enumerate(all_data):\n",
      "    if record[0] not in restaurant_id:\n",
      "        restaurant_id.append(record[0])\n",
      "        new_all_data.append(record)"
     ],
     "language": "python",
     "metadata": {},
     "outputs": [],
     "prompt_number": 79
    },
    {
     "cell_type": "code",
     "collapsed": false,
     "input": [
      "cuisine_codes = []\n",
      "\n",
      "for record in new_all_data:\n",
      "    if record[7] not in cuisine_codes:\n",
      "        cuisine_codes.append(record[7])\n",
      "\n",
      "cuisine_codes.sort()\n",
      "print cuisine_codes"
     ],
     "language": "python",
     "metadata": {},
     "outputs": [
      {
       "output_type": "stream",
       "stream": "stdout",
       "text": [
        "[-1, 0, 1, 2, 3, 4, 5, 6, 7, 8, 9, 10, 12, 13, 14, 15, 17, 18, 19, 20, 21, 22, 23, 24, 25, 26, 27, 28, 29, 30, 31, 32, 33, 34, 35, 36, 37, 38, 39, 40, 41, 42, 43, 44, 45, 46, 47, 48, 49, 50, 51, 52, 53, 54, 55, 56, 57, 58, 59, 60, 61, 62, 63, 64, 65, 66, 67, 68, 69, 70, 71, 72, 73, 74, 75, 76, 77, 78, 80, 81, 82, 83, 84, 99]\n"
       ]
      }
     ],
     "prompt_number": 83
    },
    {
     "cell_type": "code",
     "collapsed": false,
     "input": [
      "cuisines_list = []\n",
      "for code in cuisine_codes:\n",
      "    if code >= 0:\n",
      "        cuisines = []\n",
      "        for record in new_all_data:\n",
      "            if record[7] == code:\n",
      "                cuisines.append(record)\n",
      "        cuisines_list.append([code, cuisines])\n",
      "        #cuisines_list.append(cuisines)"
     ],
     "language": "python",
     "metadata": {},
     "outputs": [],
     "prompt_number": 109
    },
    {
     "cell_type": "code",
     "collapsed": false,
     "input": [
      "var_list = []\n",
      "for codepair in cuisines_list:\n",
      "    cuisines = codepair[1]\n",
      "\n",
      "    score = []\n",
      "    for record in cuisines:\n",
      "        scores.append(record[11])\n",
      "\n",
      "    var_list.append((codepair[0], numpy.std(scores))) "
     ],
     "language": "python",
     "metadata": {},
     "outputs": [],
     "prompt_number": 131
    },
    {
     "cell_type": "code",
     "collapsed": false,
     "input": [
      "max_std = 0\n",
      "code = -1\n",
      "for pair in var_list:\n",
      "    if(pair[1] > max_std):\n",
      "        max_std = pair[1]\n",
      "        code = pair[0]\n",
      "print code"
     ],
     "language": "python",
     "metadata": {},
     "outputs": [
      {
       "output_type": "stream",
       "stream": "stdout",
       "text": [
        "2\n"
       ]
      }
     ],
     "prompt_number": 143
    },
    {
     "cell_type": "markdown",
     "metadata": {},
     "source": [
      "African food has the highest variance."
     ]
    },
    {
     "cell_type": "code",
     "collapsed": false,
     "input": [],
     "language": "python",
     "metadata": {},
     "outputs": []
    },
    {
     "cell_type": "markdown",
     "metadata": {},
     "source": [
      "## What's the most common violation code?"
     ]
    },
    {
     "cell_type": "code",
     "collapsed": false,
     "input": [
      "violation_data = mlab.csv2rec(\"data/original data/Violation.txt\")"
     ],
     "language": "python",
     "metadata": {},
     "outputs": [],
     "prompt_number": 145
    },
    {
     "cell_type": "code",
     "collapsed": false,
     "input": [
      "violation_codes = []\n",
      "for record in violation_data:\n",
      "    if record[3] not in violation_codes:\n",
      "        violation_codes.append(record[3])\n",
      "print violation_codes"
     ],
     "language": "python",
     "metadata": {},
     "outputs": [
      {
       "output_type": "stream",
       "stream": "stdout",
       "text": [
        "['01A', '01B', '01C', '01D', '01E', '01F', '01G', '01H', '01I', '02A', '02B', '02C', '02D', '02E', '02F', '02G', '02H', '02I', '02J', '03A', '03B', '03C', '03D', '03E', '03F', '03G', '03H', '04A', '04B', '04C', '04D', '04E', '04F', '04G', '04H', '04I', '04J', '04K', '04L', '04M', '04N', '04O', '04P', '04Q', '05A', '05B', '05C', '05D', '05E', '05F', '05G', '05H', '05I', '05J', '06A', '06B', '06C', '06D', '06E', '06F', '06G', '06H', '06I', '07A', '07B', '07C', '07D', '07E', '07F', '07G', '07H', '07I', '08A', '08B', '08C', '08D', '08E', '08F', '08G', '08H', '08I', '08J', '08K', '08L', '08M', '09A', '09B', '09C', '09D', '09E', '09F', '09G', '09H', '10A', '10B', '10C', '10D', '10E', '10F', '10G', '10H', '10I', '10J', '10K', '10L', '10M', '11A', '11B', '11C', '11D', '12A', '12B', '12C', '12D', '12E', '12F', '12G', '12H', '13A', '13B', '13C', '13D', '13E', '14A', '14B', '14C', '14D', '14E', '15A', '15B', '15C', '15D', '15E', '15F', '15G', '15H', '15I', '15J', '15K', '15L', '15M', '15N', '15O', '15P', '15Q', '15R', '15S', '15T', '16A', '16B', '16C', '16D', '16E', '16F', '18A', '18B', '18C', '18D', '18E', '18F', '18G', '18H', '18I', '20A', '20B', '20C', '20D', '20E', '20F', '22A', '22B', '22C', '22E', '99B']\n"
       ]
      }
     ],
     "prompt_number": 146
    },
    {
     "cell_type": "code",
     "collapsed": false,
     "input": [
      "count_list = []\n",
      "for code in violation_codes:\n",
      "    count = 0\n",
      "    for record in violation_data:\n",
      "        if code == record[3]:\n",
      "            count = count + 1\n",
      "    count_list.append([code, count])\n",
      "print count_list"
     ],
     "language": "python",
     "metadata": {},
     "outputs": [
      {
       "output_type": "stream",
       "stream": "stdout",
       "text": [
        "[['01A', 5], ['01B', 5], ['01C', 5], ['01D', 5], ['01E', 5], ['01F', 5], ['01G', 1], ['01H', 1], ['01I', 1], ['02A', 7], ['02B', 7], ['02C', 7], ['02D', 7], ['02E', 7], ['02F', 7], ['02G', 6], ['02H', 6], ['02I', 6], ['02J', 2], ['03A', 7], ['03B', 7], ['03C', 7], ['03D', 6], ['03E', 6], ['03F', 6], ['03G', 6], ['03H', 1], ['04A', 7], ['04B', 7], ['04C', 7], ['04D', 7], ['04E', 7], ['04F', 7], ['04G', 7], ['04H', 6], ['04I', 6], ['04J', 6], ['04K', 6], ['04L', 6], ['04M', 6], ['04N', 6], ['04O', 6], ['04P', 5], ['04Q', 1], ['05A', 7], ['05B', 7], ['05C', 7], ['05D', 6], ['05E', 6], ['05F', 6], ['05G', 6], ['05H', 6], ['05I', 6], ['05J', 4], ['06A', 7], ['06B', 7], ['06C', 7], ['06D', 7], ['06E', 7], ['06F', 7], ['06G', 4], ['06H', 3], ['06I', 2], ['07A', 7], ['07B', 6], ['07C', 6], ['07D', 5], ['07E', 5], ['07F', 5], ['07G', 1], ['07H', 1], ['07I', 1], ['08A', 7], ['08B', 7], ['08C', 7], ['08D', 1], ['08E', 1], ['08F', 1], ['08G', 1], ['08H', 1], ['08I', 1], ['08J', 1], ['08K', 1], ['08L', 1], ['08M', 1], ['09A', 7], ['09B', 7], ['09C', 7], ['09D', 6], ['09E', 2], ['09F', 2], ['09G', 2], ['09H', 2], ['10A', 6], ['10B', 6], ['10C', 6], ['10D', 6], ['10E', 5], ['10F', 5], ['10G', 5], ['10H', 5], ['10I', 5], ['10J', 5], ['10K', 4], ['10L', 4], ['10M', 1], ['11A', 4], ['11B', 4], ['11C', 4], ['11D', 3], ['12A', 5], ['12B', 1], ['12C', 1], ['12D', 1], ['12E', 1], ['12F', 1], ['12G', 1], ['12H', 1], ['13A', 1], ['13B', 1], ['13C', 1], ['13D', 1], ['13E', 1], ['14A', 1], ['14B', 1], ['14C', 1], ['14D', 1], ['14E', 1], ['15A', 7], ['15B', 7], ['15C', 7], ['15D', 7], ['15E', 7], ['15F', 7], ['15G', 7], ['15H', 7], ['15I', 7], ['15J', 7], ['15K', 7], ['15L', 7], ['15M', 7], ['15N', 7], ['15O', 4], ['15P', 1], ['15Q', 1], ['15R', 1], ['15S', 1], ['15T', 1], ['16A', 4], ['16B', 4], ['16C', 4], ['16D', 4], ['16E', 4], ['16F', 4], ['18A', 2], ['18B', 2], ['18C', 2], ['18D', 2], ['18E', 2], ['18F', 2], ['18G', 2], ['18H', 2], ['18I', 1], ['20A', 1], ['20B', 1], ['20C', 1], ['20D', 1], ['20E', 1], ['20F', 1], ['22A', 1], ['22B', 1], ['22C', 1], ['22E', 1], ['99B', 2]]\n"
       ]
      }
     ],
     "prompt_number": 150
    },
    {
     "cell_type": "code",
     "collapsed": false,
     "input": [
      "max_count = 0\n",
      "for pair in count_list:\n",
      "    if(pair[1] > max_count):\n",
      "        max_count = pair[1]\n",
      "print max_count"
     ],
     "language": "python",
     "metadata": {},
     "outputs": [
      {
       "output_type": "stream",
       "stream": "stdout",
       "text": [
        "7\n"
       ]
      }
     ],
     "prompt_number": 151
    },
    {
     "cell_type": "code",
     "collapsed": false,
     "input": [
      "for pair in count_list:\n",
      "    if pair[1] == max_count:\n",
      "        print pair[0]"
     ],
     "language": "python",
     "metadata": {},
     "outputs": [
      {
       "output_type": "stream",
       "stream": "stdout",
       "text": [
        "02A\n",
        "02B\n",
        "02C\n",
        "02D\n",
        "02E\n",
        "02F\n",
        "03A\n",
        "03B\n",
        "03C\n",
        "04A\n",
        "04B\n",
        "04C\n",
        "04D\n",
        "04E\n",
        "04F\n",
        "04G\n",
        "05A\n",
        "05B\n",
        "05C\n",
        "06A\n",
        "06B\n",
        "06C\n",
        "06D\n",
        "06E\n",
        "06F\n",
        "07A\n",
        "08A\n",
        "08B\n",
        "08C\n",
        "09A\n",
        "09B\n",
        "09C\n",
        "15A\n",
        "15B\n",
        "15C\n",
        "15D\n",
        "15E\n",
        "15F\n",
        "15G\n",
        "15H\n",
        "15I\n",
        "15J\n",
        "15K\n",
        "15L\n",
        "15M\n",
        "15N\n"
       ]
      }
     ],
     "prompt_number": 152
    },
    {
     "cell_type": "markdown",
     "metadata": {},
     "source": [
      "Doesn't seem to be right data. Try the original data."
     ]
    },
    {
     "cell_type": "code",
     "collapsed": false,
     "input": [
      "new_violation_codes = []\n",
      "for record in all_data:\n",
      "    if record[10] not in new_violation_codes:\n",
      "        new_violation_codes.append(record[10])\n",
      "print new_violation_codes"
     ],
     "language": "python",
     "metadata": {},
     "outputs": [
      {
       "output_type": "stream",
       "stream": "stdout",
       "text": [
        "['10B', '06C', '06D', '10F', '04L', '02G', '08A', '04K', '04H', '02H', '', '09A', '09C', '06A', '05D', '04N', '06F', '02B', '04M', '06E', '10J', '04C', '10I', '02A', '06B', '10E', '09B', '08B', '10D', '10A', '04A', '08C', '04O', '02C', '10C', '10H', '05H', '04J', '03C', '03B', '04I', '04G', '05E', '03A', '02D', '04E', '04D', '03G', '05B', '02E', '06I', '05C', '05F', '10G', '07A', '04F', '99B', '03D', '02I', '04B', '06G', '03E', '05A', '15K', '22A', '16B', '22C', '04P', '15L', '16A', '20D', '15J', '20A', '18I', '16C', '18G', '18A', '09D', '10K', '20F', '05I', '10L', '15I', '18F', '10M', '20E', '22B', '05G', '15T', '07D', '15S', '20C', '16E', '18B', '16F', '16D', '18D', '18C', '22E', '15E', '07E', '02F', '12A', '05J', '18E', '20B', '06H', '07F']\n"
       ]
      }
     ],
     "prompt_number": 154
    },
    {
     "cell_type": "code",
     "collapsed": false,
     "input": [
      "new_count_list = []\n",
      "for code in new_violation_codes:\n",
      "    count = 0\n",
      "    for record in all_data:\n",
      "        if code == record[10]:\n",
      "            count = count + 1\n",
      "    new_count_list.append([code, count])\n",
      "print new_count_list"
     ],
     "language": "python",
     "metadata": {},
     "outputs": [
      {
       "output_type": "stream",
       "stream": "stdout",
       "text": [
        "[['10B', 34649], ['06C', 26953], ['06D', 29984], ['10F', 62270], ['04L', 40271], ['02G', 47297], ['08A', 53318], ['04K', 3661], ['04H', 16959], ['02H', 2341], ['', 9163], ['09A', 3160], ['09C', 7900], ['06A', 9631], ['05D', 6980], ['04N', 21486], ['06F', 9983], ['02B', 24664], ['04M', 16600], ['06E', 15292], ['10J', 1946], ['04C', 4726], ['10I', 3606], ['02A', 512], ['06B', 3123], ['10E', 3808], ['09B', 4272], ['08B', 2389], ['10D', 4425], ['10A', 5902], ['04A', 9819], ['08C', 7185], ['04O', 943], ['02C', 564], ['10C', 1024], ['10H', 8850], ['05H', 927], ['04J', 6539], ['03C', 614], ['03B', 380], ['04I', 583], ['04G', 16], ['05E', 178], ['03A', 636], ['02D', 47], ['04E', 351], ['04D', 431], ['03G', 22], ['05B', 64], ['02E', 27], ['06I', 23], ['05C', 53], ['05F', 903], ['10G', 2225], ['07A', 196], ['04F', 82], ['99B', 5849], ['03D', 128], ['02I', 38], ['04B', 37], ['06G', 92], ['03E', 30], ['05A', 116], ['15K', 382], ['22A', 448], ['16B', 6782], ['22C', 1793], ['04P', 21], ['15L', 2167], ['16A', 1207], ['20D', 551], ['15J', 476], ['20A', 511], ['18I', 199], ['16C', 196], ['18G', 193], ['18A', 479], ['09D', 299], ['10K', 342], ['20F', 178], ['05I', 65], ['10L', 81], ['15I', 409], ['18F', 191], ['10M', 97], ['20E', 39], ['22B', 146], ['05G', 33], ['15T', 85], ['07D', 29], ['15S', 284], ['20C', 4], ['16E', 27], ['18B', 9], ['16F', 9], ['16D', 10], ['18D', 16], ['18C', 3], ['22E', 8], ['15E', 12], ['07E', 7], ['02F', 5], ['12A', 2], ['05J', 6], ['18E', 1], ['20B', 7], ['06H', 9], ['07F', 2]]\n"
       ]
      }
     ],
     "prompt_number": 155
    },
    {
     "cell_type": "code",
     "collapsed": false,
     "input": [
      "max_count = 0\n",
      "for pair in new_count_list:\n",
      "    if(pair[1] > max_count):\n",
      "        max_count = pair[1]\n",
      "print max_count\n",
      "\n",
      "for pair in new_count_list:\n",
      "    if pair[1] == max_count:\n",
      "        print pair[0]"
     ],
     "language": "python",
     "metadata": {},
     "outputs": [
      {
       "output_type": "stream",
       "stream": "stdout",
       "text": [
        "62270\n",
        "10F\n"
       ]
      }
     ],
     "prompt_number": 157
    },
    {
     "cell_type": "code",
     "collapsed": false,
     "input": [
      "for record in violation_data:\n",
      "    if record[3] == '10F':\n",
      "        print record[4]\n",
      "        break"
     ],
     "language": "python",
     "metadata": {},
     "outputs": [
      {
       "output_type": "stream",
       "stream": "stdout",
       "text": [
        "Equipment not easily movable or sealed to floor, adjoining equipment, adjacent walls or ceiling. Aisle or workspace inadequate.\n"
       ]
      }
     ],
     "prompt_number": 162
    },
    {
     "cell_type": "code",
     "collapsed": false,
     "input": [],
     "language": "python",
     "metadata": {},
     "outputs": []
    }
   ],
   "metadata": {}
  }
 ]
}