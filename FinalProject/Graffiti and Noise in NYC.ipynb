{
 "metadata": {
  "name": ""
 },
 "nbformat": 3,
 "nbformat_minor": 0,
 "worksheets": [
  {
   "cells": [
    {
     "cell_type": "markdown",
     "metadata": {},
     "source": [
      "# Exploration of Graffiti and Noise Complaint Locations in NYC\n",
      "Data source: [311 Service Requests from 2010 to Present](https://nycopendata.socrata.com/Social-Services/Noise-Graffti/avfi-5sgm) from NYC Open Data\n",
      "\n",
      "Most of the data have location information(address and coordinates), as well as case-created time, complaint types and descriptor."
     ]
    },
    {
     "cell_type": "code",
     "collapsed": false,
     "input": [
      "from datetime import datetime\n",
      "from geopy.point import Point\n",
      "from geopy import distance\n",
      "from operator import itemgetter\n",
      "import numpy as np\n",
      "import matplotlib.nxutils as nx"
     ],
     "language": "python",
     "metadata": {},
     "outputs": [],
     "prompt_number": 218
    },
    {
     "cell_type": "code",
     "collapsed": false,
     "input": [
      "f = open('data/311_Service_Requests_from_2010_to_Present.csv')\n",
      "data = f.readlines()\n",
      "f.close()"
     ],
     "language": "python",
     "metadata": {},
     "outputs": [],
     "prompt_number": 219
    },
    {
     "cell_type": "code",
     "collapsed": false,
     "input": [
      "header = data[0]\n",
      "print header"
     ],
     "language": "python",
     "metadata": {},
     "outputs": [
      {
       "output_type": "stream",
       "stream": "stdout",
       "text": [
        "Unique Key,Created Date,Closed Date,Agency,Agency Name,Complaint Type,Descriptor,Location Type,Incident Zip,Incident Address,Street Name,Cross Street 1,Cross Street 2,Intersection Street 1,Intersection Street 2,Address Type,City,Landmark,Facility Type,Status,Due Date,Resolution Action Updated Date,Community Board,Borough,X Coordinate (State Plane),Y Coordinate (State Plane),Park Facility Name,Park Borough,School Name,School Number,School Region,School Code,School Phone Number,School Address,School City,School State,School Zip,School Not Found,School or Citywide Complaint,Vehicle Type,Taxi Company Borough,Taxi Pick Up Location,Bridge Highway Name,Bridge Highway Direction,Road Ramp,Bridge Highway Segment,Garage Lot Name,Ferry Direction,Ferry Terminal Name,Latitude,Longitude,Location\n",
        "\n"
       ]
      }
     ],
     "prompt_number": 220
    },
    {
     "cell_type": "code",
     "collapsed": false,
     "input": [
      "len(data)"
     ],
     "language": "python",
     "metadata": {},
     "outputs": [
      {
       "metadata": {},
       "output_type": "pyout",
       "prompt_number": 221,
       "text": [
        "422998"
       ]
      }
     ],
     "prompt_number": 221
    },
    {
     "cell_type": "markdown",
     "metadata": {},
     "source": [
      "## Graffitis"
     ]
    },
    {
     "cell_type": "code",
     "collapsed": false,
     "input": [
      "# Get Graffiti data\n",
      "graffitis = []\n",
      "for record in data:\n",
      "    if 'Graffiti' in record.split(',')[5]:\n",
      "        graffitis.append(record)"
     ],
     "language": "python",
     "metadata": {},
     "outputs": [],
     "prompt_number": 222
    },
    {
     "cell_type": "code",
     "collapsed": false,
     "input": [
      "# Get id, datetime, point(lat, lng)\n",
      "formatted_graffitis = []\n",
      "for record in graffitis:\n",
      "    array = record.split(',')\n",
      "    formatted_graffitis.append([array[0], \n",
      "    \tdatetime.strptime(array[1], \"%m/%d/%Y %I:%M:%S %p\"), \n",
      "    \tPoint((array[49], array[50]))])"
     ],
     "language": "python",
     "metadata": {},
     "outputs": [],
     "prompt_number": 223
    },
    {
     "cell_type": "code",
     "collapsed": false,
     "input": [
      "# sort by time\n",
      "formatted_graffitis.sort(key=itemgetter(1), reverse=True)"
     ],
     "language": "python",
     "metadata": {},
     "outputs": [],
     "prompt_number": 224
    },
    {
     "cell_type": "markdown",
     "metadata": {},
     "source": [
      "I used the [Open Heat Map](http://www.openheatmap.com/) to visualize the graffiti locations reported in 2013, and it turns out the graffiti artists love [Chinatown (and Broadway in Brooklyn)](http://www.openheatmap.com/view.html?map=PenutianAmminesMisattributions). \n",
      "\n",
      "And initial comparison of graffiti and noise complaints locations on the map really says nothing..."
     ]
    },
    {
     "cell_type": "markdown",
     "metadata": {},
     "source": [
      "<img src=\"https://www.google.com/maps/vt/data=VLHX1wd2Cgu8wR6jwyh-km8JBWAkEzU4,xTOmtetIIDkP3OCal1Cpy5dXGItpCB-WeHK4y8vH0nDr1EuSOw8pAwxeYJkzSvTnKfEzpSFx3HdgGSQbFFstwrSOpJ0OIPgIY9aq28xUKGTH6vEQHHWkXV6ox8aFH_nA3_QJXcin3RdQYP2HuZvCApm4fgZvhXV7_SXxhN_053hmZa8RYkDAjHkfmPaCjLwjmmUcsh8\" style=\"float: right;\"/>\n",
      "\n",
      "There's a cluster of graffitis in Lower Manhattan. So I decided to limit both datasets to this area."
     ]
    },
    {
     "cell_type": "code",
     "collapsed": false,
     "input": [
      "# Polygon of Lower Manhattan's outline\n",
      "lower_manhattan = np.array([\n",
      "\t[40.726809, -73.971311], \n",
      "\t[40.744207, -74.013583], \n",
      "\t[40.707618, -74.023968], \n",
      "\t[40.698574, -74.018990], \n",
      "\t[40.709375, -73.976590]], float)"
     ],
     "language": "python",
     "metadata": {},
     "outputs": [],
     "prompt_number": 225
    },
    {
     "cell_type": "markdown",
     "metadata": {},
     "source": [
      "Try to see the amount of graffitis reported in this area through out time from 2010 to now."
     ]
    },
    {
     "cell_type": "code",
     "collapsed": false,
     "input": [
      "graffiti_daily_count_dict = {}\n",
      "for record in formatted_graffitis:\n",
      "    if record[1].date() not in graffiti_daily_count_dict:\n",
      "        count = 0\n",
      "        graffiti_daily_count_dict[record[1].date()] = count\n",
      "    graffiti_daily_count_dict[record[1].date()] += 1"
     ],
     "language": "python",
     "metadata": {},
     "outputs": [],
     "prompt_number": 226
    },
    {
     "cell_type": "code",
     "collapsed": false,
     "input": [
      "graffiti_daily_count = []\n",
      "\n",
      "for key, value in graffiti_daily_count_dict.iteritems():\n",
      "    graffiti_daily_count.append([key, value])\n",
      "\n",
      "graffiti_daily_count.sort()"
     ],
     "language": "python",
     "metadata": {},
     "outputs": [],
     "prompt_number": 227
    },
    {
     "cell_type": "code",
     "collapsed": false,
     "input": [
      "x = [g[0] for g in graffiti_daily_count]\n",
      "y = [g[1] for g in graffiti_daily_count]\n",
      "\n",
      "pyplot.plot(x, y)"
     ],
     "language": "python",
     "metadata": {},
     "outputs": [
      {
       "metadata": {},
       "output_type": "pyout",
       "prompt_number": 228,
       "text": [
        "[<matplotlib.lines.Line2D at 0x10e0a49d0>]"
       ]
      },
      {
       "metadata": {},
       "output_type": "display_data",
       "png": "[encoded data removed]",
       "text": [
        "<matplotlib.figure.Figure at 0x11903f910>"
       ]
      }
     ],
     "prompt_number": 228
    },
    {
     "cell_type": "code",
     "collapsed": false,
     "input": [
      "graffiti_daily_count.sort(key=itemgetter(1), reverse=True)\n",
      "graffiti_daily_count[0:10]"
     ],
     "language": "python",
     "metadata": {},
     "outputs": [
      {
       "metadata": {},
       "output_type": "pyout",
       "prompt_number": 229,
       "text": [
        "[[datetime.date(2012, 4, 16), 335],\n",
        " [datetime.date(2010, 11, 4), 330],\n",
        " [datetime.date(2010, 1, 21), 292],\n",
        " [datetime.date(2013, 3, 14), 272],\n",
        " [datetime.date(2010, 4, 28), 255],\n",
        " [datetime.date(2010, 1, 25), 249],\n",
        " [datetime.date(2011, 4, 7), 249],\n",
        " [datetime.date(2012, 4, 18), 243],\n",
        " [datetime.date(2012, 4, 20), 224],\n",
        " [datetime.date(2012, 12, 7), 208]]"
       ]
      }
     ],
     "prompt_number": 229
    },
    {
     "cell_type": "markdown",
     "metadata": {},
     "source": [
      "Search for those days:   \n",
      "Apr 16 2012: [Unusual Heat in NYC](http://newyork.cbslocal.com/2012/04/16/unusually-warm-summer-like-weather-brings-red-flag-brush-fire-warnings/)    \n",
      "Nov 04 2010: [New York Knicks 120 - Chicago Bulls 112](http://www.basketball-reference.com/boxscores/201011040CHI.html)\n",
      "\n",
      "And we can see there are less graffitis found during winters except Jan 2010, which is the begin point of the dataset of 311 Request."
     ]
    },
    {
     "cell_type": "markdown",
     "metadata": {},
     "source": [
      "Lower the resolution from daily to monthly:"
     ]
    },
    {
     "cell_type": "code",
     "collapsed": false,
     "input": [
      "# Graffiti in 2013 w/ coordinates\n",
      "formatted_graffitis_2013 = []\n",
      "for record in formatted_graffitis:\n",
      "    if record[1].year == 2013 and nx.pnpoly(record[2].latitude, record[2].longitude, lower_manhattan) == 1:\n",
      "        formatted_graffitis_2013.append(record)"
     ],
     "language": "python",
     "metadata": {},
     "outputs": [],
     "prompt_number": 230
    },
    {
     "cell_type": "code",
     "collapsed": false,
     "input": [
      "# Graffiti in months from 2010 to now at Lower Manhattan\n",
      "formatted_graffitis_in_month_dict = {}\n",
      "for record in formatted_graffitis:\n",
      "    if nx.pnpoly(record[2].latitude, record[2].longitude, lower_manhattan) == 1:\n",
      "        key = str(record[1].year) + str(record[1].month).zfill(2)\n",
      "        if not key in formatted_graffitis_in_month_dict:\n",
      "            l = []\n",
      "            formatted_graffitis_in_month_dict[key] = l\n",
      "        formatted_graffitis_in_month_dict[key].append(record)"
     ],
     "language": "python",
     "metadata": {},
     "outputs": [],
     "prompt_number": 231
    },
    {
     "cell_type": "code",
     "collapsed": false,
     "input": [
      "graffiti_month_count = []\n",
      "for key, value in formatted_graffitis_in_month_dict.iteritems():\n",
      "    graffiti_month_count.append([key, len(value)])"
     ],
     "language": "python",
     "metadata": {},
     "outputs": [],
     "prompt_number": 232
    },
    {
     "cell_type": "code",
     "collapsed": false,
     "input": [
      "graffiti_month_count.sort()"
     ],
     "language": "python",
     "metadata": {},
     "outputs": [],
     "prompt_number": 233
    },
    {
     "cell_type": "code",
     "collapsed": false,
     "input": [
      "x = [datetime.strptime(g[0], \"%Y%m\") for g in graffiti_month_count]\n",
      "y = [g[1] for g in graffiti_month_count]\n",
      "\n",
      "pyplot.bar(x, y)"
     ],
     "language": "python",
     "metadata": {},
     "outputs": [
      {
       "metadata": {},
       "output_type": "pyout",
       "prompt_number": 234,
       "text": [
        "<Container object of 46 artists>"
       ]
      },
      {
       "metadata": {},
       "output_type": "display_data",
       "png": "[encoded data removed]",
       "text": [
        "<matplotlib.figure.Figure at 0x11904f510>"
       ]
      }
     ],
     "prompt_number": 234
    },
    {
     "cell_type": "markdown",
     "metadata": {},
     "source": [
      "Get the centroid of the most recent graffiti locations in Lower Manhattan (September 2013):"
     ]
    },
    {
     "cell_type": "code",
     "collapsed": false,
     "input": [
      "# get in months\n",
      "formatted_graffitis_2013_month_dict = {}\n",
      "for i in range(1, 13):\n",
      "\tl = []\n",
      "\tfor record in formatted_graffitis_2013:\n",
      "\t\tif record[1].month == i:\n",
      "\t\t\tl.append(record)\n",
      "\tformatted_graffitis_2013_month_dict[i] = l"
     ],
     "language": "python",
     "metadata": {},
     "outputs": [],
     "prompt_number": 235
    },
    {
     "cell_type": "code",
     "collapsed": false,
     "input": [
      "# Get centroid of graffitis in Lower Manhattan in 201309\n",
      "points = []\n",
      "for record in formatted_graffitis_2013_month_dict[9]:\n",
      "    points.append([record[2].latitude, record[2].longitude])\n",
      "    \n",
      "# for record in formatted_graffitis_2013_month_dict[8]:\n",
      "#     points.append([record[2].latitude, record[2].longitude])\n",
      "\n",
      "# for record in formatted_graffitis_2013_month_dict[7]:\n",
      "#     points.append([record[2].latitude, record[2].longitude])\n",
      "\n",
      "x = [p[0] for p in points]\n",
      "y = [p[1] for p in points]\n",
      "centroid = Point((sum(x) / len(points), sum(y) / len(points)))\n",
      "\n",
      "print str(centroid.latitude) + \", \" + str(centroid.longitude)"
     ],
     "language": "python",
     "metadata": {},
     "outputs": [
      {
       "output_type": "stream",
       "stream": "stdout",
       "text": [
        "40.7212391265, -73.9946092568\n"
       ]
      }
     ],
     "prompt_number": 236
    },
    {
     "cell_type": "markdown",
     "metadata": {},
     "source": [
      "See it on [Google Maps](https://www.google.com/maps/preview#!q=40.7212391265%2C+-73.9946092568&data=!1m4!1m3!1d3764!2d-73.9946093!3d40.7212391!4m15!2m14!1m13!1s0x89c2598619746c85%3A0x3870c47ae6d74db8!3m8!1m3!1d12094!2d-73.9884189!3d40.7313029!3m2!1i1024!2i768!4f13.1!4m2!3d40.7212391!4d-73.9946093)."
     ]
    },
    {
     "cell_type": "markdown",
     "metadata": {},
     "source": [
      "## Noise"
     ]
    },
    {
     "cell_type": "code",
     "collapsed": false,
     "input": [
      "# Get Noise Data\n",
      "noises = []\n",
      "for record in data:\n",
      "    if 'Noise' in record.split(',')[5]:\n",
      "        noises.append(record)"
     ],
     "language": "python",
     "metadata": {},
     "outputs": [],
     "prompt_number": 237
    },
    {
     "cell_type": "markdown",
     "metadata": {},
     "source": [
      "Complaint Types and Descriptors:"
     ]
    },
    {
     "cell_type": "code",
     "collapsed": false,
     "input": [
      "# Get Complaint Type and Descriptor for noise\n",
      "\n",
      "complaint_type = set()\n",
      "descriptor = set()\n",
      "\n",
      "for record in noises:\n",
      "    complaint_type.add(record.split(',')[5])\n",
      "    descriptor.add(record.split(',')[6])\n",
      "\n",
      "print complaint_type\n",
      "print \"\"\n",
      "print descriptor"
     ],
     "language": "python",
     "metadata": {},
     "outputs": [
      {
       "output_type": "stream",
       "stream": "stdout",
       "text": [
        "set(['Noise', 'Noise - House of Worship', 'Noise - Helicopter', 'Noise - Vehicle', 'Collection Truck Noise', 'Noise - Street/Sidewalk', 'Noise - Park', 'Noise - Commercial', 'Noise Survey'])\n",
        "\n",
        "set(['Noise: Jack Hammering (NC2)', 'News Gathering', 'Passing By', 'Other', 'Noise: Vehicle (NR2)', 'Noise: Other Noise Sources (Use Comments) (NZZ)', 'Loud Television', 'NYPD', 'Noise: Loud Music/Daytime (Mark Date And Time) (NN1)', 'Loud Music/Party', 'Noise: Alarms (NR3)', 'Loud Talking', '\"Noise', 'Noise: Manufacturing Noise (NK1)', 'Banging/Pounding', 'People Created Noise', 'Noise: air condition/ventilation equipment (NV1)', 'Engine Idling', '\"Noise: Air Condition/Ventilation Equip', 'Noise:  lawn care equipment (NCL)', 'Noise: Private Carting Noise (NQ1)', 'Hovering', 'Noise: Construction Before/After Hours (NM1)', 'Car/Truck Music', '\"Noise: Boat(Engine', 'Noise: Loud Music/Nighttime(Mark Date And Time) (NP1)', '21 Collection Truck Noise', 'Horn Honking Sign Requested (NR9)', 'Car/Truck Horn', 'Flying Too Low', 'Noise: Construction Equipment (NC1)'])\n"
       ]
      }
     ],
     "prompt_number": 238
    },
    {
     "cell_type": "code",
     "collapsed": false,
     "input": [
      "# Get id, datetime, point(lat, lng), complaint_type, descriptor\n",
      "formatted_noises = []\n",
      "for record in noises:\n",
      "\tarray = record.split(',')\n",
      "\tformatted_noises.append([array[0], \n",
      "\tdatetime.strptime(array[1], \"%m/%d/%Y %I:%M:%S %p\"), \n",
      "\t\tPoint((array[49], array[50])),\n",
      "    \tarray[5],\n",
      "    \tarray[6]])"
     ],
     "language": "python",
     "metadata": {},
     "outputs": [],
     "prompt_number": 239
    },
    {
     "cell_type": "code",
     "collapsed": false,
     "input": [
      "# Different types of Noise in months from 2010 to now at Lower Manhattan\n",
      "\n",
      "formatted_noises_in_month_dict = {}\n",
      "for record in formatted_noises:\n",
      "    if nx.pnpoly(record[2].latitude, record[2].longitude, lower_manhattan) == 1:\n",
      "        timekey = str(record[1].year) + str(record[1].month).zfill(2)\n",
      "        if not timekey in formatted_noises_in_month_dict:\n",
      "            type_dict = {}\n",
      "            formatted_noises_in_month_dict[timekey] = type_dict\n",
      "            \n",
      "        typekey = record[3]\n",
      "        if not typekey in formatted_noises_in_month_dict[timekey]:\n",
      "            l = []\n",
      "            formatted_noises_in_month_dict[timekey][typekey] = l\n",
      "            \n",
      "        \n",
      "        \n",
      "        formatted_noises_in_month_dict[timekey][typekey].append(record)"
     ],
     "language": "python",
     "metadata": {},
     "outputs": [],
     "prompt_number": 240
    },
    {
     "cell_type": "markdown",
     "metadata": {},
     "source": [
      "Try to see the amount of noises reported in this area through out time from 2010 to now."
     ]
    },
    {
     "cell_type": "code",
     "collapsed": false,
     "input": [
      "total_yearmonth_count_dict = {}\n",
      "\n",
      "for timekey, value in formatted_noises_in_month_dict.iteritems():\n",
      "    count = 0\n",
      "    for typekey, v in value.iteritems():\n",
      "        count += len(v)\n",
      "    total_yearmonth_count_dict[timekey] = count"
     ],
     "language": "python",
     "metadata": {},
     "outputs": [],
     "prompt_number": 241
    },
    {
     "cell_type": "code",
     "collapsed": false,
     "input": [
      "total_yearmonth_count = []\n",
      "\n",
      "for key, value in total_yearmonth_count_dict.iteritems():\n",
      "    total_yearmonth_count.append([key, value])\n",
      "\n",
      "total_yearmonth_count.sort()"
     ],
     "language": "python",
     "metadata": {},
     "outputs": [],
     "prompt_number": 242
    },
    {
     "cell_type": "code",
     "collapsed": false,
     "input": [
      "x = [datetime.strptime(g[0], \"%Y%m\") for g in total_yearmonth_count]\n",
      "y = [g[1] for g in total_yearmonth_count]\n",
      "\n",
      "pyplot.plot(x, y)"
     ],
     "language": "python",
     "metadata": {},
     "outputs": [
      {
       "metadata": {},
       "output_type": "pyout",
       "prompt_number": 243,
       "text": [
        "[<matplotlib.lines.Line2D at 0x113784690>]"
       ]
      },
      {
       "metadata": {},
       "output_type": "display_data",
       "png": "[encoded data removed]",
       "text": [
        "<matplotlib.figure.Figure at 0x11904f590>"
       ]
      }
     ],
     "prompt_number": 243
    },
    {
     "cell_type": "code",
     "collapsed": false,
     "input": [
      "type_yearmonth_count = {}\n",
      "for c in complaint_type:\n",
      "    l = []\n",
      "    for timekey, value in formatted_noises_in_month_dict.iteritems():\n",
      "        if(c in value):\n",
      "            l.append([timekey, len(value[c])])\n",
      "    type_yearmonth_count[c] = l\n",
      "\n",
      "for key, value in type_yearmonth_count.iteritems():\n",
      "    value.sort()"
     ],
     "language": "python",
     "metadata": {},
     "outputs": [],
     "prompt_number": 244
    },
    {
     "cell_type": "code",
     "collapsed": false,
     "input": [
      "x = [datetime.strptime(g[0], \"%Y%m\") for g in type_yearmonth_count['Noise']]\n",
      "y = [g[1] for g in type_yearmonth_count['Noise']]\n",
      "\n",
      "a = [datetime.strptime(g[0], \"%Y%m\") for g in type_yearmonth_count['Noise - Commercial']]\n",
      "b = [g[1] for g in type_yearmonth_count['Noise - Commercial']]\n",
      "\n",
      "c = [datetime.strptime(g[0], \"%Y%m\") for g in type_yearmonth_count['Noise - Street/Sidewalk']]\n",
      "d = [g[1] for g in type_yearmonth_count['Noise - Street/Sidewalk']]\n",
      "\n",
      "pyplot.plot(x, y, a, b, c, d)"
     ],
     "language": "python",
     "metadata": {},
     "outputs": [
      {
       "metadata": {},
       "output_type": "pyout",
       "prompt_number": 245,
       "text": [
        "[<matplotlib.lines.Line2D at 0x1137e8410>,\n",
        " <matplotlib.lines.Line2D at 0x1137e8a90>,\n",
        " <matplotlib.lines.Line2D at 0x1137fd110>]"
       ]
      },
      {
       "metadata": {},
       "output_type": "display_data",
       "png": "[encoded data removed]",
       "text": [
        "<matplotlib.figure.Figure at 0x116f54ed0>"
       ]
      }
     ],
     "prompt_number": 245
    },
    {
     "cell_type": "markdown",
     "metadata": {},
     "source": [
      "Relation with Graffiti.. appearance of both in the same month"
     ]
    },
    {
     "cell_type": "code",
     "collapsed": false,
     "input": [
      "x = []\n",
      "for record in graffiti_month_count:\n",
      "    x.append(record[1])\n",
      "\n",
      "y = []\n",
      "total_yearmonth_count.sort()\n",
      "for record in total_yearmonth_count:\n",
      "    y.append(record[1])\n",
      "    \n",
      "matplotlib.pyplot.scatter(x, y)"
     ],
     "language": "python",
     "metadata": {},
     "outputs": [
      {
       "metadata": {},
       "output_type": "pyout",
       "prompt_number": 246,
       "text": [
        "<matplotlib.collections.PathCollection at 0x114628dd0>"
       ]
      },
      {
       "metadata": {},
       "output_type": "display_data",
       "png": "[encoded data removed]",
       "text": [
        "<matplotlib.figure.Figure at 0x116f86310>"
       ]
      }
     ],
     "prompt_number": 246
    },
    {
     "cell_type": "code",
     "collapsed": false,
     "input": [
      "x = []\n",
      "for record in graffiti_month_count:\n",
      "    x.append(record[1])\n",
      "\n",
      "y = []\n",
      "type_yearmonth_count['Noise - Commercial'].sort()\n",
      "for record in type_yearmonth_count['Noise - Commercial']:\n",
      "    y.append(record[1])\n",
      "    \n",
      "matplotlib.pyplot.scatter(x, y)"
     ],
     "language": "python",
     "metadata": {},
     "outputs": [
      {
       "metadata": {},
       "output_type": "pyout",
       "prompt_number": 247,
       "text": [
        "<matplotlib.collections.PathCollection at 0x1149fb4d0>"
       ]
      },
      {
       "metadata": {},
       "output_type": "display_data",
       "png": "[encoded data removed]",
       "text": [
        "<matplotlib.figure.Figure at 0x113829d50>"
       ]
      }
     ],
     "prompt_number": 247
    },
    {
     "cell_type": "markdown",
     "metadata": {},
     "source": [
      "Noises in 2013"
     ]
    },
    {
     "cell_type": "code",
     "collapsed": false,
     "input": [
      "# Noises in 2013 w/ coordinates\n",
      "formatted_noises_2013 = []\n",
      "for record in formatted_noises:\n",
      "    if record[1].year == 2013 and nx.pnpoly(record[2].latitude, record[2].longitude, lower_manhattan) == 1:\n",
      "        formatted_noises_2013.append(record)"
     ],
     "language": "python",
     "metadata": {},
     "outputs": [],
     "prompt_number": 248
    },
    {
     "cell_type": "code",
     "collapsed": false,
     "input": [
      "# build a dict\n",
      "formatted_noises_2013_dict = {}\n",
      "\n",
      "for c in complaint_type:\n",
      "\tl = []\n",
      "\tfor record in formatted_noises_2013:\n",
      "\t\tif record[3] == c:\n",
      "\t\t\tl.append(record)\n",
      "\tformatted_noises_2013_dict[c] = l\n",
      "\n",
      "for key, value in formatted_noises_2013_dict.iteritems():\n",
      "\tprint key + \": \" + str(len(value))"
     ],
     "language": "python",
     "metadata": {},
     "outputs": [
      {
       "output_type": "stream",
       "stream": "stdout",
       "text": [
        "Noise: 3580\n",
        "Noise - House of Worship: 14\n",
        "Noise - Helicopter: 56\n",
        "Noise - Vehicle: 682\n",
        "Collection Truck Noise: 10\n",
        "Noise - Street/Sidewalk: 1712\n",
        "Noise - Commercial: 3147\n",
        "Noise - Park: 403\n",
        "Noise Survey: 0\n"
       ]
      }
     ],
     "prompt_number": 249
    },
    {
     "cell_type": "markdown",
     "metadata": {},
     "source": [
      "Noises in September 2013 "
     ]
    },
    {
     "cell_type": "code",
     "collapsed": false,
     "input": [
      "# build a dict for all months in 2013\n",
      "formatted_noises_2013_month_dict = {}\n",
      "\n",
      "for i in range(1, 13):\n",
      "\ttemp_dict = {}\n",
      "\tfor key, value in formatted_noises_2013_dict.iteritems():\n",
      "\t\tl = []\n",
      "\t\tfor record in value:\n",
      "\t\t\tif record[1].month == i:\n",
      "\t\t\t\tl.append(record)\n",
      "\t\ttemp_dict[key] = l\n",
      "\tformatted_noises_2013_month_dict[i] = temp_dict\n",
      "\n",
      "\n",
      "for key, value in formatted_noises_2013_month_dict[9].iteritems():\n",
      "\tprint key + \": \" + str(len(value))"
     ],
     "language": "python",
     "metadata": {},
     "outputs": [
      {
       "output_type": "stream",
       "stream": "stdout",
       "text": [
        "Noise: 461\n",
        "Noise - House of Worship: 2\n",
        "Noise - Helicopter: 11\n",
        "Noise - Vehicle: 98\n",
        "Collection Truck Noise: 1\n",
        "Noise - Street/Sidewalk: 288\n",
        "Noise - Park: 63\n",
        "Noise - Commercial: 483\n",
        "Noise Survey: 0\n"
       ]
      }
     ],
     "prompt_number": 250
    },
    {
     "cell_type": "markdown",
     "metadata": {},
     "source": [
      "## Dive into noise complaint types"
     ]
    },
    {
     "cell_type": "markdown",
     "metadata": {},
     "source": [
      "Distance between different comlaint type of noise and the centroid of graffitis in September 2013"
     ]
    },
    {
     "cell_type": "code",
     "collapsed": false,
     "input": [
      "# calculate distance for all types\n",
      "\n",
      "distance_dict = {}\n",
      "\n",
      "for key, value in formatted_noises_2013_month_dict[9].iteritems():\n",
      "    if len(value) != 0:\n",
      "        distances = []\n",
      "        for record in value:\n",
      "            distances.append(distance.distance(centroid, record[2]).miles)\n",
      "        distance_dict[key] = distances"
     ],
     "language": "python",
     "metadata": {},
     "outputs": [],
     "prompt_number": 251
    },
    {
     "cell_type": "code",
     "collapsed": false,
     "input": [
      "# for key, value in formatted_noises_2013_month_dict[8].iteritems():\n",
      "#     if len(value) != 0:\n",
      "#         #distances = []\n",
      "#         for record in value:\n",
      "#             distance_dict[key].append(distance.distance(centroid, record[2]).miles)\n",
      "#         #distance_dict[key] = distances"
     ],
     "language": "python",
     "metadata": {},
     "outputs": [],
     "prompt_number": 252
    },
    {
     "cell_type": "code",
     "collapsed": false,
     "input": [
      "for key, value in distance_dict.iteritems():\n",
      "    print key + \" - mean: \" + str(numpy.mean(value))"
     ],
     "language": "python",
     "metadata": {},
     "outputs": [
      {
       "output_type": "stream",
       "stream": "stdout",
       "text": [
        "Noise - mean: 0.780869846263\n",
        "Noise - House of Worship - mean: 0.783178604568\n",
        "Noise - Helicopter - mean: 1.00146049432\n",
        "Noise - Vehicle - mean: 0.729399316769\n",
        "Collection Truck Noise - mean: 1.33744464192\n",
        "Noise - Street/Sidewalk - mean: 0.712086097955\n",
        "Noise - Commercial - mean: 0.649861312861\n",
        "Noise - Park - mean: 0.733286530404\n"
       ]
      }
     ],
     "prompt_number": 253
    },
    {
     "cell_type": "code",
     "collapsed": false,
     "input": [
      "for key, value in distance_dict.iteritems():\n",
      "    print key + \" - std: \" + str(numpy.std(value))"
     ],
     "language": "python",
     "metadata": {},
     "outputs": [
      {
       "output_type": "stream",
       "stream": "stdout",
       "text": [
        "Noise - std: 0.369021461233\n",
        "Noise - House of Worship - std: 0.100003063577\n",
        "Noise - Helicopter - std: 0.403013114789\n",
        "Noise - Vehicle - std: 0.35520461345\n",
        "Collection Truck Noise - std: 0.0\n",
        "Noise - Street/Sidewalk - std: 0.313650111746\n",
        "Noise - Commercial - std: 0.299849475091\n",
        "Noise - Park - std: 0.241120049921\n"
       ]
      }
     ],
     "prompt_number": 254
    },
    {
     "cell_type": "code",
     "collapsed": false,
     "input": [
      "n, bins, patches = pyplot.hist(distance_dict['Noise'])"
     ],
     "language": "python",
     "metadata": {},
     "outputs": [
      {
       "metadata": {},
       "output_type": "display_data",
       "png": "[encoded data removed]",
       "text": [
        "<matplotlib.figure.Figure at 0x11a210f10>"
       ]
      }
     ],
     "prompt_number": 255
    },
    {
     "cell_type": "code",
     "collapsed": false,
     "input": [
      "n, bins, patches = pyplot.hist(distance_dict['Noise - House of Worship'])"
     ],
     "language": "python",
     "metadata": {},
     "outputs": [
      {
       "metadata": {},
       "output_type": "display_data",
       "png": "[encoded data removed]",
       "text": [
        "<matplotlib.figure.Figure at 0x10f1fd750>"
       ]
      }
     ],
     "prompt_number": 256
    },
    {
     "cell_type": "code",
     "collapsed": false,
     "input": [
      "n, bins, patches = pyplot.hist(distance_dict['Noise - Helicopter'])"
     ],
     "language": "python",
     "metadata": {},
     "outputs": [
      {
       "metadata": {},
       "output_type": "display_data",
       "png": "[encoded data removed]",
       "text": [
        "<matplotlib.figure.Figure at 0x114ec5c90>"
       ]
      }
     ],
     "prompt_number": 257
    },
    {
     "cell_type": "code",
     "collapsed": false,
     "input": [
      "n, bins, patches = pyplot.hist(distance_dict['Noise - Vehicle'])"
     ],
     "language": "python",
     "metadata": {},
     "outputs": [
      {
       "metadata": {},
       "output_type": "display_data",
       "png": "[encoded data removed]",
       "text": [
        "<matplotlib.figure.Figure at 0x11382f3d0>"
       ]
      }
     ],
     "prompt_number": 258
    },
    {
     "cell_type": "code",
     "collapsed": false,
     "input": [
      "n, bins, patches = pyplot.hist(distance_dict['Collection Truck Noise'])"
     ],
     "language": "python",
     "metadata": {},
     "outputs": [
      {
       "metadata": {},
       "output_type": "display_data",
       "png": "[encoded data removed]",
       "text": [
        "<matplotlib.figure.Figure at 0x113838410>"
       ]
      }
     ],
     "prompt_number": 259
    },
    {
     "cell_type": "code",
     "collapsed": false,
     "input": [
      "n, bins, patches = pyplot.hist(distance_dict['Noise - Street/Sidewalk'])"
     ],
     "language": "python",
     "metadata": {},
     "outputs": [
      {
       "metadata": {},
       "output_type": "display_data",
       "png": "[encoded data removed]",
       "text": [
        "<matplotlib.figure.Figure at 0x10f6ec3d0>"
       ]
      }
     ],
     "prompt_number": 260
    },
    {
     "cell_type": "code",
     "collapsed": false,
     "input": [
      "n, bins, patches = pyplot.hist(distance_dict['Noise - Commercial'])"
     ],
     "language": "python",
     "metadata": {},
     "outputs": [
      {
       "metadata": {},
       "output_type": "display_data",
       "png": "[encoded data removed]",
       "text": [
        "<matplotlib.figure.Figure at 0x10f6c2050>"
       ]
      }
     ],
     "prompt_number": 261
    },
    {
     "cell_type": "code",
     "collapsed": false,
     "input": [
      "n, bins, patches = pyplot.hist(distance_dict['Noise - Park'])"
     ],
     "language": "python",
     "metadata": {},
     "outputs": [
      {
       "metadata": {},
       "output_type": "display_data",
       "png": "[encoded data removed]",
       "text": [
        "<matplotlib.figure.Figure at 0x11788c110>"
       ]
      }
     ],
     "prompt_number": 262
    },
    {
     "cell_type": "markdown",
     "metadata": {},
     "source": [
      "So the correlation between graffitis and noise complaints..   \n",
      "not really..   \n",
      "yet..\n",
      "\n",
      "# Difficulties\n",
      "- too many variables(location, time, types, descriptors, departments...)\n",
      "- not easy to find correlation of locations(with 2 variables)\n",
      "- graffiti takes time to be found but noise complaints are much more in time"
     ]
    },
    {
     "cell_type": "code",
     "collapsed": false,
     "input": [],
     "language": "python",
     "metadata": {},
     "outputs": [],
     "prompt_number": 262
    }
   ],
   "metadata": {}
  }
 ]
}