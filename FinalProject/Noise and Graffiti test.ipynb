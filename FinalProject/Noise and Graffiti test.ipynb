{
 "metadata": {
  "name": ""
 },
 "nbformat": 3,
 "nbformat_minor": 0,
 "worksheets": [
  {
   "cells": [
    {
     "cell_type": "markdown",
     "metadata": {},
     "source": [
      "# Exploration of Graffitis and Noises in NYC\n",
      "Data source: "
     ]
    },
    {
     "cell_type": "code",
     "collapsed": false,
     "input": [
      "from datetime import datetime\n",
      "from geopy.point import Point\n",
      "from operator import itemgetter"
     ],
     "language": "python",
     "metadata": {},
     "outputs": [],
     "prompt_number": 108
    },
    {
     "cell_type": "code",
     "collapsed": false,
     "input": [
      "f = open('data/311_Service_Requests_from_2010_to_Present.csv')\n",
      "data = f.readlines()\n",
      "f.close()"
     ],
     "language": "python",
     "metadata": {},
     "outputs": [],
     "prompt_number": 109
    },
    {
     "cell_type": "code",
     "collapsed": false,
     "input": [
      "len(data)"
     ],
     "language": "python",
     "metadata": {},
     "outputs": [
      {
       "metadata": {},
       "output_type": "pyout",
       "prompt_number": 110,
       "text": [
        "422998"
       ]
      }
     ],
     "prompt_number": 110
    },
    {
     "cell_type": "code",
     "collapsed": false,
     "input": [
      "header_row = data[0]\n",
      "print header_row"
     ],
     "language": "python",
     "metadata": {},
     "outputs": [
      {
       "output_type": "stream",
       "stream": "stdout",
       "text": [
        "Unique Key,Created Date,Closed Date,Agency,Agency Name,Complaint Type,Descriptor,Location Type,Incident Zip,Incident Address,Street Name,Cross Street 1,Cross Street 2,Intersection Street 1,Intersection Street 2,Address Type,City,Landmark,Facility Type,Status,Due Date,Resolution Action Updated Date,Community Board,Borough,X Coordinate (State Plane),Y Coordinate (State Plane),Park Facility Name,Park Borough,School Name,School Number,School Region,School Code,School Phone Number,School Address,School City,School State,School Zip,School Not Found,School or Citywide Complaint,Vehicle Type,Taxi Company Borough,Taxi Pick Up Location,Bridge Highway Name,Bridge Highway Direction,Road Ramp,Bridge Highway Segment,Garage Lot Name,Ferry Direction,Ferry Terminal Name,Latitude,Longitude,Location\n",
        "\n"
       ]
      }
     ],
     "prompt_number": 111
    },
    {
     "cell_type": "code",
     "collapsed": false,
     "input": [
      "data = list(set(data)) # this is a hack!\n",
      "print len(data)"
     ],
     "language": "python",
     "metadata": {},
     "outputs": [
      {
       "output_type": "stream",
       "stream": "stdout",
       "text": [
        "422998\n"
       ]
      }
     ],
     "prompt_number": 112
    },
    {
     "cell_type": "code",
     "collapsed": false,
     "input": [
      "complaint_type = set()\n",
      "descriptor = set()\n",
      "\n",
      "for record in data:\n",
      "    complaint_type.add(record.split(',')[5])\n",
      "    descriptor.add(record.split(',')[6])"
     ],
     "language": "python",
     "metadata": {},
     "outputs": [],
     "prompt_number": 162
    },
    {
     "cell_type": "code",
     "collapsed": false,
     "input": [
      "print complaint_type\n",
      "len(complaint_type)"
     ],
     "language": "python",
     "metadata": {},
     "outputs": [
      {
       "output_type": "stream",
       "stream": "stdout",
       "text": [
        "set(['Noise', 'Complaint Type', 'Noise - House of Worship', 'Noise - Helicopter', 'Noise - Park', 'Noise - Vehicle', 'Collection Truck Noise', 'Noise - Street/Sidewalk', 'Noise - Commercial', 'Graffiti', 'Noise Survey'])\n"
       ]
      },
      {
       "metadata": {},
       "output_type": "pyout",
       "prompt_number": 166,
       "text": [
        "11"
       ]
      }
     ],
     "prompt_number": 166
    },
    {
     "cell_type": "code",
     "collapsed": false,
     "input": [
      "print descriptor\n",
      "len(descriptor)"
     ],
     "language": "python",
     "metadata": {},
     "outputs": [
      {
       "output_type": "stream",
       "stream": "stdout",
       "text": [
        "set(['Noise: Jack Hammering (NC2)', 'News Gathering', 'Passing By', 'Other', 'Noise: Vehicle (NR2)', 'Noise: Other Noise Sources (Use Comments) (NZZ)', 'Loud Television', 'NYPD', 'People Created Noise', 'Loud Music/Party', 'Noise: Alarms (NR3)', 'Loud Talking', '\"Noise', 'Noise: Manufacturing Noise (NK1)', 'Banging/Pounding', 'Noise: Loud Music/Daytime (Mark Date And Time) (NN1)', 'Flying Too Low', 'Noise: air condition/ventilation equipment (NV1)', 'Engine Idling', '\"Noise: Air Condition/Ventilation Equip', 'Noise:  lawn care equipment (NCL)', 'Noise: Private Carting Noise (NQ1)', 'Descriptor', 'Hovering', 'Noise: Construction Before/After Hours (NM1)', 'Car/Truck Music', '\"Noise: Boat(Engine', 'Police Report Requested', 'Noise: Loud Music/Nighttime(Mark Date And Time) (NP1)', '21 Collection Truck Noise', 'Horn Honking Sign Requested (NR9)', 'Car/Truck Horn', 'Graffiti', 'Noise: Construction Equipment (NC1)', 'Police Report Not Requested'])\n"
       ]
      },
      {
       "metadata": {},
       "output_type": "pyout",
       "prompt_number": 167,
       "text": [
        "35"
       ]
      }
     ],
     "prompt_number": 167
    },
    {
     "cell_type": "code",
     "collapsed": false,
     "input": [
      "graffitis = []\n",
      "for record in data:\n",
      "    # if record.split(',')[5] == 'Graffiti':\n",
      "    if 'Graffiti' in record.split(',')[5]:\n",
      "        graffitis.append(record)"
     ],
     "language": "python",
     "metadata": {},
     "outputs": [],
     "prompt_number": 113
    },
    {
     "cell_type": "code",
     "collapsed": false,
     "input": [
      "print len(graffitis)"
     ],
     "language": "python",
     "metadata": {},
     "outputs": [
      {
       "output_type": "stream",
       "stream": "stdout",
       "text": [
        "62306\n"
       ]
      }
     ],
     "prompt_number": 114
    },
    {
     "cell_type": "code",
     "collapsed": false,
     "input": [
      "noises = []\n",
      "for record in data:\n",
      "    if 'Noise' in record.split(',')[5]:\n",
      "        noises.append(record)"
     ],
     "language": "python",
     "metadata": {},
     "outputs": [],
     "prompt_number": 115
    },
    {
     "cell_type": "code",
     "collapsed": false,
     "input": [
      "print len(noises)"
     ],
     "language": "python",
     "metadata": {},
     "outputs": [
      {
       "output_type": "stream",
       "stream": "stdout",
       "text": [
        "360691\n"
       ]
      }
     ],
     "prompt_number": 116
    },
    {
     "cell_type": "code",
     "collapsed": false,
     "input": [
      "formatted_graffitis = []\n",
      "for record in graffitis:\n",
      "    array = record.split(',')\n",
      "    formatted_graffitis.append([array[0], \n",
      "                                datetime.strptime(array[1], \"%m/%d/%Y %I:%M:%S %p\"), \n",
      "                                Point((array[49], array[50]))])"
     ],
     "language": "python",
     "metadata": {},
     "outputs": [],
     "prompt_number": 193
    },
    {
     "cell_type": "code",
     "collapsed": false,
     "input": [
      "formatted_graffitis.sort(key=itemgetter(1), reverse=True)"
     ],
     "language": "python",
     "metadata": {},
     "outputs": [],
     "prompt_number": 118
    },
    {
     "cell_type": "code",
     "collapsed": false,
     "input": [
      "formatted_graffitis[0:10]"
     ],
     "language": "python",
     "metadata": {},
     "outputs": [
      {
       "metadata": {},
       "output_type": "pyout",
       "prompt_number": 119,
       "text": [
        "[['26453770',\n",
        "  datetime.datetime(2013, 10, 8, 19, 4, 11),\n",
        "  Point(40.63851335831146, -74.1329555078984, 0.0)],\n",
        " ['26458879',\n",
        "  datetime.datetime(2013, 10, 8, 18, 55, 6),\n",
        "  Point(40.71984267342615, -73.76231065988071, 0.0)],\n",
        " ['26458878',\n",
        "  datetime.datetime(2013, 10, 8, 18, 52, 23),\n",
        "  Point(40.70381678105476, -73.76674269279394, 0.0)],\n",
        " ['26458053',\n",
        "  datetime.datetime(2013, 10, 8, 18, 50, 53),\n",
        "  Point(0.0, 0.0, 0.0)],\n",
        " ['26456289',\n",
        "  datetime.datetime(2013, 10, 8, 18, 50, 53),\n",
        "  Point(40.67848929371025, -73.97966256599678, 0.0)],\n",
        " ['26455374',\n",
        "  datetime.datetime(2013, 10, 8, 18, 50, 49),\n",
        "  Point(40.67948361696117, -73.98421941578526, 0.0)],\n",
        " ['26457130',\n",
        "  datetime.datetime(2013, 10, 8, 18, 50, 47),\n",
        "  Point(40.67964590787439, -73.98701352465825, 0.0)],\n",
        " ['26458023',\n",
        "  datetime.datetime(2013, 10, 8, 18, 50, 45),\n",
        "  Point(40.676545831572696, -73.97876546789001, 0.0)],\n",
        " ['26459824',\n",
        "  datetime.datetime(2013, 10, 8, 18, 50, 44),\n",
        "  Point(40.66263760529504, -73.90308040831593, 0.0)],\n",
        " ['26460567',\n",
        "  datetime.datetime(2013, 10, 8, 18, 50, 43),\n",
        "  Point(40.67704624548306, -73.98412986225333, 0.0)]]"
       ]
      }
     ],
     "prompt_number": 119
    },
    {
     "cell_type": "code",
     "collapsed": false,
     "input": [
      "graffitis_2013 = []\n",
      "for record in formatted_graffitis:\n",
      "    if record[1].year == 2013:\n",
      "        graffitis_2013.append(record)\n",
      "        "
     ],
     "language": "python",
     "metadata": {},
     "outputs": [],
     "prompt_number": 120
    },
    {
     "cell_type": "code",
     "collapsed": false,
     "input": [],
     "language": "python",
     "metadata": {},
     "outputs": []
    },
    {
     "cell_type": "code",
     "collapsed": false,
     "input": [
      "len(graffitis_2013)"
     ],
     "language": "python",
     "metadata": {},
     "outputs": [
      {
       "metadata": {},
       "output_type": "pyout",
       "prompt_number": 121,
       "text": [
        "9970"
       ]
      }
     ],
     "prompt_number": 121
    },
    {
     "cell_type": "code",
     "collapsed": false,
     "input": [
      "graffitis_2013_no_coordinates = []\n",
      "for record in graffitis_2013:\n",
      "    if record[2].latitude == 0 and record[2].longitude == 0:\n",
      "        graffitis_2013_no_coordinates.append(record)\n",
      "len(graffitis_2013_no_coordinates)"
     ],
     "language": "python",
     "metadata": {},
     "outputs": [
      {
       "metadata": {},
       "output_type": "pyout",
       "prompt_number": 122,
       "text": [
        "529"
       ]
      }
     ],
     "prompt_number": 122
    },
    {
     "cell_type": "code",
     "collapsed": false,
     "input": [
      "for record in graffitis_2013_no_coordinates:\n",
      "    for r in graffitis:\n",
      "        if record[0] == r.split(',')[0]:\n",
      "            addr = str(r.split(',')[9]) + \", \" + str(r.split(',')[23])\n",
      "            try:\n",
      "                place, (lat, lng) = g.geocode(addr)\n",
      "                record[2] = Point((lat, lng))\n",
      "            except ValueError:\n",
      "                print str(record[0]) + \": Didn't find exactly one placemark!\"\n",
      "            \n",
      "            break"
     ],
     "language": "python",
     "metadata": {},
     "outputs": [
      {
       "output_type": "stream",
       "stream": "stdout",
       "text": [
        "26451711: Didn't find exactly one placemark!\n",
        "26402668: Didn't find exactly one placemark!"
       ]
      },
      {
       "output_type": "stream",
       "stream": "stdout",
       "text": [
        "\n",
        "26375680: Didn't find exactly one placemark!"
       ]
      },
      {
       "output_type": "stream",
       "stream": "stdout",
       "text": [
        "\n",
        "26262970: Didn't find exactly one placemark!"
       ]
      },
      {
       "output_type": "stream",
       "stream": "stdout",
       "text": [
        "\n",
        "26079649: Didn't find exactly one placemark!"
       ]
      },
      {
       "output_type": "stream",
       "stream": "stdout",
       "text": [
        "\n",
        "26076923: Didn't find exactly one placemark!"
       ]
      },
      {
       "output_type": "stream",
       "stream": "stdout",
       "text": [
        "\n",
        "26080611: Didn't find exactly one placemark!"
       ]
      },
      {
       "output_type": "stream",
       "stream": "stdout",
       "text": [
        "\n",
        "26075056: Didn't find exactly one placemark!"
       ]
      },
      {
       "output_type": "stream",
       "stream": "stdout",
       "text": [
        "\n",
        "26019563: Didn't find exactly one placemark!"
       ]
      },
      {
       "output_type": "stream",
       "stream": "stdout",
       "text": [
        "\n",
        "26015168: Didn't find exactly one placemark!"
       ]
      },
      {
       "output_type": "stream",
       "stream": "stdout",
       "text": [
        "\n",
        "26023868: Didn't find exactly one placemark!"
       ]
      },
      {
       "ename": "GTooManyQueriesError",
       "evalue": "The given key has gone over the requests limit in the 24 hour period or has submitted too many requests in too short a period of time.",
       "output_type": "pyerr",
       "traceback": [
        "\u001b[0;31m---------------------------------------------------------------------------\u001b[0m\n\u001b[0;31mGTooManyQueriesError\u001b[0m                      Traceback (most recent call last)",
        "\u001b[0;32m<ipython-input-192-13c74f5e6c21>\u001b[0m in \u001b[0;36m<module>\u001b[0;34m()\u001b[0m\n\u001b[1;32m      4\u001b[0m             \u001b[0maddr\u001b[0m \u001b[0;34m=\u001b[0m \u001b[0mstr\u001b[0m\u001b[0;34m(\u001b[0m\u001b[0mr\u001b[0m\u001b[0;34m.\u001b[0m\u001b[0msplit\u001b[0m\u001b[0;34m(\u001b[0m\u001b[0;34m','\u001b[0m\u001b[0;34m)\u001b[0m\u001b[0;34m[\u001b[0m\u001b[0;36m9\u001b[0m\u001b[0;34m]\u001b[0m\u001b[0;34m)\u001b[0m \u001b[0;34m+\u001b[0m \u001b[0;34m\", \"\u001b[0m \u001b[0;34m+\u001b[0m \u001b[0mstr\u001b[0m\u001b[0;34m(\u001b[0m\u001b[0mr\u001b[0m\u001b[0;34m.\u001b[0m\u001b[0msplit\u001b[0m\u001b[0;34m(\u001b[0m\u001b[0;34m','\u001b[0m\u001b[0;34m)\u001b[0m\u001b[0;34m[\u001b[0m\u001b[0;36m23\u001b[0m\u001b[0;34m]\u001b[0m\u001b[0;34m)\u001b[0m\u001b[0;34m\u001b[0m\u001b[0m\n\u001b[1;32m      5\u001b[0m             \u001b[0;32mtry\u001b[0m\u001b[0;34m:\u001b[0m\u001b[0;34m\u001b[0m\u001b[0m\n\u001b[0;32m----> 6\u001b[0;31m                 \u001b[0mplace\u001b[0m\u001b[0;34m,\u001b[0m \u001b[0;34m(\u001b[0m\u001b[0mlat\u001b[0m\u001b[0;34m,\u001b[0m \u001b[0mlng\u001b[0m\u001b[0;34m)\u001b[0m \u001b[0;34m=\u001b[0m \u001b[0mg\u001b[0m\u001b[0;34m.\u001b[0m\u001b[0mgeocode\u001b[0m\u001b[0;34m(\u001b[0m\u001b[0maddr\u001b[0m\u001b[0;34m)\u001b[0m\u001b[0;34m\u001b[0m\u001b[0m\n\u001b[0m\u001b[1;32m      7\u001b[0m                 \u001b[0mrecord\u001b[0m\u001b[0;34m[\u001b[0m\u001b[0;36m2\u001b[0m\u001b[0;34m]\u001b[0m \u001b[0;34m=\u001b[0m \u001b[0mPoint\u001b[0m\u001b[0;34m(\u001b[0m\u001b[0;34m(\u001b[0m\u001b[0mlat\u001b[0m\u001b[0;34m,\u001b[0m \u001b[0mlng\u001b[0m\u001b[0;34m)\u001b[0m\u001b[0;34m)\u001b[0m\u001b[0;34m\u001b[0m\u001b[0m\n\u001b[1;32m      8\u001b[0m             \u001b[0;32mexcept\u001b[0m \u001b[0mValueError\u001b[0m\u001b[0;34m:\u001b[0m\u001b[0;34m\u001b[0m\u001b[0m\n",
        "\u001b[0;32m/Library/Python/2.7/site-packages/geopy-0.95.1-py2.7.egg/geopy/geocoders/googlev3.pyc\u001b[0m in \u001b[0;36mgeocode\u001b[0;34m(self, string, bounds, region, language, sensor, exactly_one)\u001b[0m\n\u001b[1;32m    133\u001b[0m             \u001b[0murl\u001b[0m \u001b[0;34m=\u001b[0m \u001b[0mself\u001b[0m\u001b[0;34m.\u001b[0m\u001b[0mget_signed_url\u001b[0m\u001b[0;34m(\u001b[0m\u001b[0mparams\u001b[0m\u001b[0;34m)\u001b[0m\u001b[0;34m\u001b[0m\u001b[0m\n\u001b[1;32m    134\u001b[0m \u001b[0;34m\u001b[0m\u001b[0m\n\u001b[0;32m--> 135\u001b[0;31m         \u001b[0;32mreturn\u001b[0m \u001b[0mself\u001b[0m\u001b[0;34m.\u001b[0m\u001b[0mgeocode_url\u001b[0m\u001b[0;34m(\u001b[0m\u001b[0murl\u001b[0m\u001b[0;34m,\u001b[0m \u001b[0mexactly_one\u001b[0m\u001b[0;34m)\u001b[0m\u001b[0;34m\u001b[0m\u001b[0m\n\u001b[0m\u001b[1;32m    136\u001b[0m \u001b[0;34m\u001b[0m\u001b[0m\n\u001b[1;32m    137\u001b[0m     \u001b[0;32mdef\u001b[0m \u001b[0mreverse\u001b[0m\u001b[0;34m(\u001b[0m\u001b[0mself\u001b[0m\u001b[0;34m,\u001b[0m \u001b[0mpoint\u001b[0m\u001b[0;34m,\u001b[0m \u001b[0mlanguage\u001b[0m\u001b[0;34m=\u001b[0m\u001b[0mNone\u001b[0m\u001b[0;34m,\u001b[0m \u001b[0msensor\u001b[0m\u001b[0;34m=\u001b[0m\u001b[0mFalse\u001b[0m\u001b[0;34m,\u001b[0m \u001b[0mexactly_one\u001b[0m\u001b[0;34m=\u001b[0m\u001b[0mFalse\u001b[0m\u001b[0;34m)\u001b[0m\u001b[0;34m:\u001b[0m\u001b[0;34m\u001b[0m\u001b[0m\n",
        "\u001b[0;32m/Library/Python/2.7/site-packages/geopy-0.95.1-py2.7.egg/geopy/geocoders/googlev3.pyc\u001b[0m in \u001b[0;36mgeocode_url\u001b[0;34m(self, url, exactly_one)\u001b[0m\n\u001b[1;32m     89\u001b[0m         \u001b[0mpage\u001b[0m \u001b[0;34m=\u001b[0m \u001b[0murlopen\u001b[0m\u001b[0;34m(\u001b[0m\u001b[0murl\u001b[0m\u001b[0;34m)\u001b[0m\u001b[0;34m\u001b[0m\u001b[0m\n\u001b[1;32m     90\u001b[0m \u001b[0;34m\u001b[0m\u001b[0m\n\u001b[0;32m---> 91\u001b[0;31m         \u001b[0;32mreturn\u001b[0m \u001b[0mself\u001b[0m\u001b[0;34m.\u001b[0m\u001b[0mparse_json\u001b[0m\u001b[0;34m(\u001b[0m\u001b[0mpage\u001b[0m\u001b[0;34m,\u001b[0m \u001b[0mexactly_one\u001b[0m\u001b[0;34m)\u001b[0m\u001b[0;34m\u001b[0m\u001b[0m\n\u001b[0m\u001b[1;32m     92\u001b[0m \u001b[0;34m\u001b[0m\u001b[0m\n\u001b[1;32m     93\u001b[0m     def geocode(self, string, bounds=None, region=None,\n",
        "\u001b[0;32m/Library/Python/2.7/site-packages/geopy-0.95.1-py2.7.egg/geopy/geocoders/googlev3.pyc\u001b[0m in \u001b[0;36mparse_json\u001b[0;34m(self, page, exactly_one)\u001b[0m\n\u001b[1;32m    173\u001b[0m \u001b[0;34m\u001b[0m\u001b[0m\n\u001b[1;32m    174\u001b[0m         \u001b[0;32mif\u001b[0m \u001b[0;32mnot\u001b[0m \u001b[0mplaces\u001b[0m\u001b[0;34m:\u001b[0m\u001b[0;34m\u001b[0m\u001b[0m\n\u001b[0;32m--> 175\u001b[0;31m             \u001b[0mcheck_status\u001b[0m\u001b[0;34m(\u001b[0m\u001b[0mself\u001b[0m\u001b[0;34m.\u001b[0m\u001b[0mdoc\u001b[0m\u001b[0;34m.\u001b[0m\u001b[0mget\u001b[0m\u001b[0;34m(\u001b[0m\u001b[0;34m'status'\u001b[0m\u001b[0;34m)\u001b[0m\u001b[0;34m)\u001b[0m\u001b[0;34m\u001b[0m\u001b[0m\n\u001b[0m\u001b[1;32m    176\u001b[0m             \u001b[0;32mreturn\u001b[0m \u001b[0mNone\u001b[0m\u001b[0;34m\u001b[0m\u001b[0m\n\u001b[1;32m    177\u001b[0m         \u001b[0;32melif\u001b[0m \u001b[0mexactly_one\u001b[0m \u001b[0;32mand\u001b[0m \u001b[0mlen\u001b[0m\u001b[0;34m(\u001b[0m\u001b[0mplaces\u001b[0m\u001b[0;34m)\u001b[0m \u001b[0;34m!=\u001b[0m \u001b[0;36m1\u001b[0m\u001b[0;34m:\u001b[0m\u001b[0;34m\u001b[0m\u001b[0m\n",
        "\u001b[0;32m/Library/Python/2.7/site-packages/geopy-0.95.1-py2.7.egg/geopy/geocoders/googlev3.pyc\u001b[0m in \u001b[0;36mcheck_status\u001b[0;34m(status)\u001b[0m\n\u001b[1;32m    200\u001b[0m     \u001b[0;32melif\u001b[0m \u001b[0mstatus\u001b[0m \u001b[0;34m==\u001b[0m \u001b[0;34m'OVER_QUERY_LIMIT'\u001b[0m\u001b[0;34m:\u001b[0m\u001b[0;34m\u001b[0m\u001b[0m\n\u001b[1;32m    201\u001b[0m         raise GTooManyQueriesError(\n\u001b[0;32m--> 202\u001b[0;31m             \u001b[0;34m'The given key has gone over the requests limit in the 24'\u001b[0m\u001b[0;34m\u001b[0m\u001b[0m\n\u001b[0m\u001b[1;32m    203\u001b[0m             \u001b[0;34m' hour period or has submitted too many requests in too'\u001b[0m\u001b[0;34m\u001b[0m\u001b[0m\n\u001b[1;32m    204\u001b[0m             ' short a period of time.')\n",
        "\u001b[0;31mGTooManyQueriesError\u001b[0m: The given key has gone over the requests limit in the 24 hour period or has submitted too many requests in too short a period of time."
       ]
      },
      {
       "output_type": "stream",
       "stream": "stdout",
       "text": [
        "\n"
       ]
      }
     ],
     "prompt_number": 192
    },
    {
     "cell_type": "code",
     "collapsed": false,
     "input": [
      "party = []\n",
      "for record in noises:\n",
      "    if record.split(',')[6] == \"Loud Music/Party\":\n",
      "        array = record.split(',')\n",
      "        party.append([array[0], datetime.strptime(array[1], \"%m/%d/%Y %I:%M:%S %p\"), Point((array[49], array[50])), array[5], array[6]])"
     ],
     "language": "python",
     "metadata": {},
     "outputs": [],
     "prompt_number": 168
    },
    {
     "cell_type": "code",
     "collapsed": false,
     "input": [
      "len(party)"
     ],
     "language": "python",
     "metadata": {},
     "outputs": [
      {
       "metadata": {},
       "output_type": "pyout",
       "prompt_number": 169,
       "text": [
        "114788"
       ]
      }
     ],
     "prompt_number": 169
    },
    {
     "cell_type": "code",
     "collapsed": false,
     "input": [
      "party_2013 = []\n",
      "for record in party:\n",
      "    if record[1].year == 2013 and record[2].latitude != 0:\n",
      "        party_2013.append(record)\n",
      "len(party_2013)"
     ],
     "language": "python",
     "metadata": {},
     "outputs": [
      {
       "metadata": {},
       "output_type": "pyout",
       "prompt_number": 170,
       "text": [
        "30750"
       ]
      }
     ],
     "prompt_number": 170
    },
    {
     "cell_type": "code",
     "collapsed": false,
     "input": [
      "party_2013.sort(key=itemgetter(1), reverse=True)"
     ],
     "language": "python",
     "metadata": {},
     "outputs": [],
     "prompt_number": 172
    },
    {
     "cell_type": "code",
     "collapsed": false,
     "input": [],
     "language": "python",
     "metadata": {},
     "outputs": []
    },
    {
     "cell_type": "code",
     "collapsed": false,
     "input": [
      "party_2013[0:10]"
     ],
     "language": "python",
     "metadata": {},
     "outputs": [
      {
       "metadata": {},
       "output_type": "pyout",
       "prompt_number": 173,
       "text": [
        "[['26459248',\n",
        "  datetime.datetime(2013, 10, 9, 2, 13, 41),\n",
        "  Point(40.70963674601442, -73.83002487902884, 0.0),\n",
        "  'Noise - Commercial',\n",
        "  'Loud Music/Party'],\n",
        " ['26456792',\n",
        "  datetime.datetime(2013, 10, 9, 2, 1, 7),\n",
        "  Point(40.72349367369547, -73.98825325266078, 0.0),\n",
        "  'Noise - Commercial',\n",
        "  'Loud Music/Party'],\n",
        " ['26458429',\n",
        "  datetime.datetime(2013, 10, 9, 1, 55, 14),\n",
        "  Point(40.71740349992278, -73.95605472789865, 0.0),\n",
        "  'Noise - Commercial',\n",
        "  'Loud Music/Party'],\n",
        " ['26455695',\n",
        "  datetime.datetime(2013, 10, 9, 1, 54, 20),\n",
        "  Point(40.72349367369547, -73.98825325266078, 0.0),\n",
        "  'Noise - Commercial',\n",
        "  'Loud Music/Party'],\n",
        " ['26456528',\n",
        "  datetime.datetime(2013, 10, 9, 1, 48, 45),\n",
        "  Point(40.778411831935564, -73.97806500462325, 0.0),\n",
        "  'Noise - Commercial',\n",
        "  'Loud Music/Party'],\n",
        " ['26456832',\n",
        "  datetime.datetime(2013, 10, 9, 1, 43, 17),\n",
        "  Point(40.72192109565006, -73.99003931078362, 0.0),\n",
        "  'Noise - Commercial',\n",
        "  'Loud Music/Party'],\n",
        " ['26454161',\n",
        "  datetime.datetime(2013, 10, 9, 1, 40, 14),\n",
        "  Point(40.72199557880803, -73.99640318064876, 0.0),\n",
        "  'Noise - Commercial',\n",
        "  'Loud Music/Party'],\n",
        " ['26459344',\n",
        "  datetime.datetime(2013, 10, 9, 1, 23, 56),\n",
        "  Point(40.86954933988228, -73.9163483681302, 0.0),\n",
        "  'Noise - Commercial',\n",
        "  'Loud Music/Party'],\n",
        " ['26458473',\n",
        "  datetime.datetime(2013, 10, 9, 1, 23, 33),\n",
        "  Point(40.639529600748716, -73.95128855589117, 0.0),\n",
        "  'Noise - Commercial',\n",
        "  'Loud Music/Party'],\n",
        " ['26459537',\n",
        "  datetime.datetime(2013, 10, 9, 1, 17, 58),\n",
        "  Point(40.720750766530145, -73.8092926177062, 0.0),\n",
        "  'Noise - Commercial',\n",
        "  'Loud Music/Party']]"
       ]
      }
     ],
     "prompt_number": 173
    },
    {
     "cell_type": "code",
     "collapsed": false,
     "input": [
      "party_201309 = []\n",
      "for record in party_2013:\n",
      "    if record[1].month == 9:\n",
      "        party_201309.append(record)"
     ],
     "language": "python",
     "metadata": {},
     "outputs": [],
     "prompt_number": 176
    },
    {
     "cell_type": "code",
     "collapsed": false,
     "input": [
      "formatted_noises = []\n",
      "for record in noises:\n",
      "    array = record.split(',')\n",
      "    formatted_noises.append([array[0], datetime.strptime(array[1], \"%m/%d/%Y %I:%M:%S %p\"), Point((array[49], array[50]))])"
     ],
     "language": "python",
     "metadata": {},
     "outputs": [],
     "prompt_number": 206
    },
    {
     "cell_type": "code",
     "collapsed": false,
     "input": [
      "len(formatted_noises)"
     ],
     "language": "python",
     "metadata": {},
     "outputs": [
      {
       "metadata": {},
       "output_type": "pyout",
       "prompt_number": 128,
       "text": [
        "360691"
       ]
      }
     ],
     "prompt_number": 128
    },
    {
     "cell_type": "code",
     "collapsed": false,
     "input": [
      "formatted_noises.sort(key=itemgetter(1), reverse=True)"
     ],
     "language": "python",
     "metadata": {},
     "outputs": [],
     "prompt_number": 129
    },
    {
     "cell_type": "code",
     "collapsed": false,
     "input": [
      "formatted_noises[0:10]"
     ],
     "language": "python",
     "metadata": {},
     "outputs": [
      {
       "metadata": {},
       "output_type": "pyout",
       "prompt_number": 131,
       "text": [
        "[['26458610',\n",
        "  datetime.datetime(2013, 10, 9, 2, 42, 19),\n",
        "  Point(40.862044580314056, -73.91913792829352, 0.0)],\n",
        " ['26456829',\n",
        "  datetime.datetime(2013, 10, 9, 2, 26),\n",
        "  Point(40.8002973121431, -73.95550878756912, 0.0)],\n",
        " ['26460427',\n",
        "  datetime.datetime(2013, 10, 9, 2, 23, 40),\n",
        "  Point(40.8002973121431, -73.95550878756912, 0.0)],\n",
        " ['26459527',\n",
        "  datetime.datetime(2013, 10, 9, 2, 21, 55),\n",
        "  Point(40.833777083027925, -73.9277584466144, 0.0)],\n",
        " ['26459248',\n",
        "  datetime.datetime(2013, 10, 9, 2, 13, 41),\n",
        "  Point(40.70963674601442, -73.83002487902884, 0.0)],\n",
        " ['26456792',\n",
        "  datetime.datetime(2013, 10, 9, 2, 1, 7),\n",
        "  Point(40.72349367369547, -73.98825325266078, 0.0)],\n",
        " ['26458429',\n",
        "  datetime.datetime(2013, 10, 9, 1, 55, 14),\n",
        "  Point(40.71740349992278, -73.95605472789865, 0.0)],\n",
        " ['26455695',\n",
        "  datetime.datetime(2013, 10, 9, 1, 54, 20),\n",
        "  Point(40.72349367369547, -73.98825325266078, 0.0)],\n",
        " ['26456528',\n",
        "  datetime.datetime(2013, 10, 9, 1, 48, 45),\n",
        "  Point(40.778411831935564, -73.97806500462325, 0.0)],\n",
        " ['26456832',\n",
        "  datetime.datetime(2013, 10, 9, 1, 43, 17),\n",
        "  Point(40.72192109565006, -73.99003931078362, 0.0)]]"
       ]
      }
     ],
     "prompt_number": 131
    },
    {
     "cell_type": "code",
     "collapsed": false,
     "input": [
      "noises_2013 = []\n",
      "for record in formatted_noises:\n",
      "    if record[1].year == 2013:\n",
      "        noises_2013.append(record)"
     ],
     "language": "python",
     "metadata": {},
     "outputs": [],
     "prompt_number": 132
    },
    {
     "cell_type": "code",
     "collapsed": false,
     "input": [
      "len(noises_2013)"
     ],
     "language": "python",
     "metadata": {},
     "outputs": [
      {
       "metadata": {},
       "output_type": "pyout",
       "prompt_number": 133,
       "text": [
        "83908"
       ]
      }
     ],
     "prompt_number": 133
    },
    {
     "cell_type": "code",
     "collapsed": false,
     "input": [
      "noises_2013_no_coordinates = []\n",
      "for record in noises_2013:\n",
      "    if record[2].latitude == 0 and record[2].longitude == 0:\n",
      "        noises_2013_no_coordinates.append(record)\n",
      "len(noises_2013_no_coordinates)"
     ],
     "language": "python",
     "metadata": {},
     "outputs": [
      {
       "metadata": {},
       "output_type": "pyout",
       "prompt_number": 134,
       "text": [
        "2320"
       ]
      }
     ],
     "prompt_number": 134
    },
    {
     "cell_type": "code",
     "collapsed": false,
     "input": [
      "graffitis_201309 = []\n",
      "for record in graffitis_2013:\n",
      "    if record[2].latitude != 0 and record[2].longitude != 0 and record[1].month == 9:\n",
      "        graffitis_201309.append(record)\n",
      "len(graffitis_201309)"
     ],
     "language": "python",
     "metadata": {},
     "outputs": [
      {
       "metadata": {},
       "output_type": "pyout",
       "prompt_number": 138,
       "text": [
        "537"
       ]
      }
     ],
     "prompt_number": 138
    },
    {
     "cell_type": "code",
     "collapsed": false,
     "input": [
      "new_graffitis_2013 = []\n",
      "for record in graffitis_2013:\n",
      "    if record[2].latitude != 0 and record[2].longitude != 0:\n",
      "        new_graffitis_2013.append(record)\n",
      "len(new_graffitis_2013)"
     ],
     "language": "python",
     "metadata": {},
     "outputs": [
      {
       "metadata": {},
       "output_type": "pyout",
       "prompt_number": 154,
       "text": [
        "9456"
       ]
      }
     ],
     "prompt_number": 154
    },
    {
     "cell_type": "code",
     "collapsed": false,
     "input": [
      "noises_2013 = []\n",
      "for record in noises_2013:\n",
      "    if record[2].latitude != 0 and record[2].longitude != 0 and record[1].month == 9:\n",
      "        noises_201309.append(record)\n",
      "len(noises_201309)"
     ],
     "language": "python",
     "metadata": {},
     "outputs": [
      {
       "metadata": {},
       "output_type": "pyout",
       "prompt_number": 151,
       "text": [
        "10723"
       ]
      }
     ],
     "prompt_number": 151
    },
    {
     "cell_type": "code",
     "collapsed": false,
     "input": [
      "graffitis_201309[-10:]"
     ],
     "language": "python",
     "metadata": {},
     "outputs": [
      {
       "metadata": {},
       "output_type": "pyout",
       "prompt_number": 145,
       "text": [
        "[['26261373',\n",
        "  datetime.datetime(2013, 9, 2, 18, 8, 20),\n",
        "  Point(40.822883897735906, -73.8185204875236, 0.0)],\n",
        " ['26260554',\n",
        "  datetime.datetime(2013, 9, 2, 17, 14, 20),\n",
        "  Point(40.66147320512542, -73.99209561860235, 0.0)],\n",
        " ['26264626',\n",
        "  datetime.datetime(2013, 9, 2, 15, 10, 22),\n",
        "  Point(40.660377944238604, -73.99083063560273, 0.0)],\n",
        " ['26261142',\n",
        "  datetime.datetime(2013, 9, 2, 10, 30, 38),\n",
        "  Point(40.72343915706398, -73.99287114443774, 0.0)],\n",
        " ['26261551',\n",
        "  datetime.datetime(2013, 9, 2, 8, 8, 45),\n",
        "  Point(40.80589207215749, -73.94511277700752, 0.0)],\n",
        " ['26261548',\n",
        "  datetime.datetime(2013, 9, 1, 21, 25, 50),\n",
        "  Point(40.846128162504165, -73.78605773796176, 0.0)],\n",
        " ['26263728',\n",
        "  datetime.datetime(2013, 9, 1, 19, 20, 7),\n",
        "  Point(40.77751691785164, -73.95092042838608, 0.0)],\n",
        " ['26260552',\n",
        "  datetime.datetime(2013, 9, 1, 17, 18, 48),\n",
        "  Point(40.72282751807597, -73.95022834316555, 0.0)],\n",
        " ['26261326',\n",
        "  datetime.datetime(2013, 9, 1, 13, 58, 3),\n",
        "  Point(40.72003860013966, -73.99775611239289, 0.0)],\n",
        " ['26261325',\n",
        "  datetime.datetime(2013, 9, 1, 13, 56, 47),\n",
        "  Point(40.720612239828505, -73.99708869311088, 0.0)]]"
       ]
      }
     ],
     "prompt_number": 145
    },
    {
     "cell_type": "code",
     "collapsed": false,
     "input": [
      "import csv\n",
      "c = csv.writer(open(\"graffiti_party_2013.csv\", \"wb\"))\n",
      "c.writerow([\"id\", \"Latitude\", \"Longitude\", \"Category\"])\n",
      "# c.writerows(graffitis_201309)\n",
      "for row in new_graffitis_2013:\n",
      "    c.writerow([row[0], row[2].latitude, row[2].longitude, \"graffiti\"])\n",
      "for row in party_2013:\n",
      "    c.writerow([row[0], row[2].latitude, row[2].longitude, \"noise\"])"
     ],
     "language": "python",
     "metadata": {},
     "outputs": [],
     "prompt_number": 181
    },
    {
     "cell_type": "code",
     "collapsed": false,
     "input": [
      "d = csv.writer(open(\"graffiti_party_201309.csv\", \"wb\"))\n",
      "d.writerow([\"date\", \"Latitude\", \"Longitude\", \"Category\"])\n",
      "# c.writerows(graffitis_201309)\n",
      "for row in graffitis_201309:\n",
      "    d.writerow([datetime.strftime(row[1], \"%d\"), row[2].latitude, row[2].longitude, \"graffiti\"])\n",
      "for row in party_201309:\n",
      "    d.writerow([datetime.strftime(row[1], \"%d\"), row[2].latitude, row[2].longitude, \"noise\"])"
     ],
     "language": "python",
     "metadata": {},
     "outputs": [],
     "prompt_number": 191
    },
    {
     "cell_type": "code",
     "collapsed": false,
     "input": [
      "len(graffitis_201309)"
     ],
     "language": "python",
     "metadata": {},
     "outputs": [
      {
       "metadata": {},
       "output_type": "pyout",
       "prompt_number": 183,
       "text": [
        "537"
       ]
      }
     ],
     "prompt_number": 183
    },
    {
     "cell_type": "code",
     "collapsed": false,
     "input": [
      "complaint_type = set()\n",
      "descriptor = set()\n",
      "\n",
      "# Get Complaint Type and Descriptor for noise\n",
      "for record in noises:\n",
      "    complaint_type.add(record.split(',')[5])\n",
      "    descriptor.add(record.split(',')[6])\n",
      "\n",
      "# Get id, datetime, point(lat, lng), complaint_type, descriptor\n",
      "formatted_noises = []\n",
      "for record in noises:\n",
      "    array = record.split(',')\n",
      "    formatted_noises.append([array[0], \n",
      "                             datetime.strptime(array[1], \"%m/%d/%Y %I:%M:%S %p\"), \n",
      "                             Point((array[49], array[50])), \n",
      "                             array[5], \n",
      "                             array[6]])\n",
      "\n",
      "# Noises in 2012 w/ coordinates\n",
      "formatted_noises_2012 = []\n",
      "for record in formatted_noises:\n",
      "    if record[1].year == 2013 and record[2].latitude != 0:\n",
      "        formatted_noises_2012.append(record)"
     ],
     "language": "python",
     "metadata": {},
     "outputs": [],
     "prompt_number": 207
    },
    {
     "cell_type": "code",
     "collapsed": false,
     "input": [
      "formatted_noises_2012_dict = {}\n",
      "\n",
      "for c in complaint_type:\n",
      "\tl = []\n",
      "\tfor record in formatted_noises_2012:\n",
      "\t\tif record[3] == c:\n",
      "\t\t\tl.append(record)\n",
      "\tformatted_noises_2012_dict[c] = l"
     ],
     "language": "python",
     "metadata": {},
     "outputs": [],
     "prompt_number": 208
    },
    {
     "cell_type": "code",
     "collapsed": false,
     "input": [
      "len(formatted_noises_2012_dict)"
     ],
     "language": "python",
     "metadata": {},
     "outputs": [
      {
       "metadata": {},
       "output_type": "pyout",
       "prompt_number": 209,
       "text": [
        "9"
       ]
      }
     ],
     "prompt_number": 209
    },
    {
     "cell_type": "code",
     "collapsed": false,
     "input": [
      "formatted_noises_2012_dict.keys()"
     ],
     "language": "python",
     "metadata": {},
     "outputs": [
      {
       "metadata": {},
       "output_type": "pyout",
       "prompt_number": 212,
       "text": [
        "['Noise',\n",
        " 'Noise - House of Worship',\n",
        " 'Noise - Helicopter',\n",
        " 'Noise - Vehicle',\n",
        " 'Collection Truck Noise',\n",
        " 'Noise - Street/Sidewalk',\n",
        " 'Noise - Commercial',\n",
        " 'Noise - Park',\n",
        " 'Noise Survey']"
       ]
      }
     ],
     "prompt_number": 212
    },
    {
     "cell_type": "code",
     "collapsed": false,
     "input": [
      "for key, value in formatted_noises_2012_dict.iteritems():\n",
      "    print key + \": \" + str(len(value))\n",
      "\n",
      "# len(formatted_noises_2012_dict['Noise'])"
     ],
     "language": "python",
     "metadata": {},
     "outputs": [
      {
       "output_type": "stream",
       "stream": "stdout",
       "text": [
        "Noise: 20158\n",
        "Noise - House of Worship: 812\n",
        "Noise - Helicopter: 564\n",
        "Noise - Vehicle: 10732\n",
        "Collection Truck Noise: 91\n",
        "Noise - Street/Sidewalk: 20559\n",
        "Noise - Commercial: 19286\n",
        "Noise - Park: 2609\n",
        "Noise Survey: 0\n"
       ]
      }
     ],
     "prompt_number": 221
    },
    {
     "cell_type": "markdown",
     "metadata": {},
     "source": [
      "# test"
     ]
    },
    {
     "cell_type": "code",
     "collapsed": false,
     "input": [
      "[(o.split(',')[0], datetime.strptime(o.split(',')[1], \"%m/%d/%Y %I:%M:%S %p\"), o.split(',')[49], o.split(',')[50]) for o in graffitis][1:10]"
     ],
     "language": "python",
     "metadata": {},
     "outputs": [
      {
       "metadata": {},
       "output_type": "pyout",
       "prompt_number": 15,
       "text": [
        "[('23767486',\n",
        "  datetime.datetime(2012, 8, 8, 0, 0),\n",
        "  '40.874042600914045',\n",
        "  '-73.8692782321943'),\n",
        " ('21846611',\n",
        "  datetime.datetime(2011, 11, 9, 0, 0),\n",
        "  '40.63918573072475',\n",
        "  '-74.00502641548135'),\n",
        " ('26080612',\n",
        "  datetime.datetime(2013, 8, 6, 13, 36, 39),\n",
        "  '40.864555960477',\n",
        "  '-73.8637002716107'),\n",
        " ('22271469',\n",
        "  datetime.datetime(2011, 12, 6, 0, 0),\n",
        "  '40.674429952456',\n",
        "  '-73.9523878472972'),\n",
        " ('26416174', datetime.datetime(2013, 10, 1, 18, 50, 34), '', ''),\n",
        " ('16553331',\n",
        "  datetime.datetime(2010, 4, 29, 0, 0),\n",
        "  '40.7459426650334',\n",
        "  '-73.91530540532051'),\n",
        " ('24281953',\n",
        "  datetime.datetime(2012, 10, 29, 0, 0),\n",
        "  '40.71821605993711',\n",
        "  '-73.9968976035803'),\n",
        " ('16405952',\n",
        "  datetime.datetime(2010, 4, 7, 0, 0),\n",
        "  '40.74483829325034',\n",
        "  '-73.88285935447996'),\n",
        " ('22445415',\n",
        "  datetime.datetime(2012, 1, 3, 0, 0),\n",
        "  '40.66490467170184',\n",
        "  '-73.92928223757917')]"
       ]
      }
     ],
     "prompt_number": 15
    },
    {
     "cell_type": "code",
     "collapsed": false,
     "input": [
      "# s = cbook.Sorter()\n",
      "# s(graffitis)\n",
      "# [(o.split(',')[0], datetime.strptime(o.split(',')[1], \"%m/%d/%Y %I:%M:%S %p\"), o.split(',')[49], o.split(',')[50]) for o in graffitis][1:10]\n",
      "from operator import itemgetter\n",
      "\n",
      "graffitis.sort(key=itemgetter(1), reverse=True)\n",
      "[(o.split(',')[0], datetime.strptime(o.split(',')[1], \"%m/%d/%Y %I:%M:%S %p\"), o.split(',')[49], o.split(',')[50]) for o in graffitis][1:10]"
     ],
     "language": "python",
     "metadata": {},
     "outputs": [
      {
       "metadata": {},
       "output_type": "pyout",
       "prompt_number": 16,
       "text": [
        "[('19291181',\n",
        "  datetime.datetime(2010, 12, 7, 0, 0),\n",
        "  '40.84446560992583',\n",
        "  '-73.93828970876989'),\n",
        " ('19668831',\n",
        "  datetime.datetime(2011, 1, 24, 0, 0),\n",
        "  '40.83743585179984',\n",
        "  '-73.84857019616315'),\n",
        " ('19963169', datetime.datetime(2011, 3, 4, 0, 0), '', ''),\n",
        " ('19251876',\n",
        "  datetime.datetime(2010, 12, 2, 0, 0),\n",
        "  '40.834816070158595',\n",
        "  '-73.93991762386334'),\n",
        " ('19762490',\n",
        "  datetime.datetime(2011, 2, 4, 0, 0),\n",
        "  '40.85989672443748',\n",
        "  '-73.90295201210064'),\n",
        " ('19678508',\n",
        "  datetime.datetime(2011, 1, 25, 0, 0),\n",
        "  '40.641780393781254',\n",
        "  '-73.90355751343766'),\n",
        " ('19913451',\n",
        "  datetime.datetime(2011, 2, 25, 0, 0),\n",
        "  '40.69244170823927',\n",
        "  '-73.92721922201945'),\n",
        " ('19347447',\n",
        "  datetime.datetime(2010, 12, 14, 0, 0),\n",
        "  '40.6899796310539',\n",
        "  '-73.93645664784128'),\n",
        " ('19745412',\n",
        "  datetime.datetime(2011, 2, 2, 0, 0),\n",
        "  '40.67206321782571',\n",
        "  '-73.9391738191903')]"
       ]
      }
     ],
     "prompt_number": 16
    },
    {
     "cell_type": "code",
     "collapsed": false,
     "input": [
      "new_graffitis = []\n",
      "for record in graffitis:\n",
      "    new_graffitis.append((record.split(',')[0], datetime.strptime(o.split(',')[1], \"%m/%d/%Y %I:%M:%S %p\"), o.split(',')[49], o.split(',')[50]))\n",
      "    \n",
      "new_graffitis[1:10]"
     ],
     "language": "python",
     "metadata": {},
     "outputs": [
      {
       "metadata": {},
       "output_type": "pyout",
       "prompt_number": 17,
       "text": [
        "[('19291181',\n",
        "  datetime.datetime(2011, 5, 4, 0, 0),\n",
        "  '40.838536015095094',\n",
        "  '-73.94159475699887'),\n",
        " ('19668831',\n",
        "  datetime.datetime(2011, 5, 4, 0, 0),\n",
        "  '40.838536015095094',\n",
        "  '-73.94159475699887'),\n",
        " ('19963169',\n",
        "  datetime.datetime(2011, 5, 4, 0, 0),\n",
        "  '40.838536015095094',\n",
        "  '-73.94159475699887'),\n",
        " ('19251876',\n",
        "  datetime.datetime(2011, 5, 4, 0, 0),\n",
        "  '40.838536015095094',\n",
        "  '-73.94159475699887'),\n",
        " ('19762490',\n",
        "  datetime.datetime(2011, 5, 4, 0, 0),\n",
        "  '40.838536015095094',\n",
        "  '-73.94159475699887'),\n",
        " ('19678508',\n",
        "  datetime.datetime(2011, 5, 4, 0, 0),\n",
        "  '40.838536015095094',\n",
        "  '-73.94159475699887'),\n",
        " ('19913451',\n",
        "  datetime.datetime(2011, 5, 4, 0, 0),\n",
        "  '40.838536015095094',\n",
        "  '-73.94159475699887'),\n",
        " ('19347447',\n",
        "  datetime.datetime(2011, 5, 4, 0, 0),\n",
        "  '40.838536015095094',\n",
        "  '-73.94159475699887'),\n",
        " ('19745412',\n",
        "  datetime.datetime(2011, 5, 4, 0, 0),\n",
        "  '40.838536015095094',\n",
        "  '-73.94159475699887')]"
       ]
      }
     ],
     "prompt_number": 17
    },
    {
     "cell_type": "code",
     "collapsed": false,
     "input": [
      "for record in data:\n",
      "    if record.split(',')[0] == '26416174':\n",
      "        print record\n",
      "        break"
     ],
     "language": "python",
     "metadata": {},
     "outputs": [
      {
       "output_type": "stream",
       "stream": "stdout",
       "text": [
        "26416174,10/01/2013 06:50:34 PM,,DSNY,Department of Sanitation,Graffiti,Graffiti,,,203 clifon pl,clifon pl,,,,,ADDRESS,,,N/A,Open,,10/01/2013 06:50:34 PM,Unspecified BROOKLYN,BROOKLYN,,,Unspecified,BROOKLYN,Unspecified,Unspecified,Unspecified,Unspecified,Unspecified,Unspecified,Unspecified,Unspecified,Unspecified,,,,,,,,,,,,,,,\n",
        "\n"
       ]
      }
     ],
     "prompt_number": 18
    },
    {
     "cell_type": "code",
     "collapsed": false,
     "input": [
      "from datetime import datetime\n",
      "datetime.strptime(\"08/08/2012 12:00:00 AM\", \"%m/%d/%Y %I:%M:%S %p\")"
     ],
     "language": "python",
     "metadata": {},
     "outputs": [
      {
       "metadata": {},
       "output_type": "pyout",
       "prompt_number": 19,
       "text": [
        "datetime.datetime(2012, 8, 8, 0, 0)"
       ]
      }
     ],
     "prompt_number": 19
    },
    {
     "cell_type": "code",
     "collapsed": false,
     "input": [
      "from geopy.point import Point\n",
      "#d = \"(\" + str(data[1].split(',')[49]) + \", \" + str(data[1].split(',')[50]) + \")\"\n",
      "#print d\n",
      "#d.strip('\"')\n",
      "p = Point((data[1].split(',')[49], data[1].split(',')[50]))"
     ],
     "language": "python",
     "metadata": {},
     "outputs": [],
     "prompt_number": 51
    },
    {
     "cell_type": "code",
     "collapsed": false,
     "input": [
      "p.longitude"
     ],
     "language": "python",
     "metadata": {},
     "outputs": [
      {
       "metadata": {},
       "output_type": "pyout",
       "prompt_number": 54,
       "text": [
        "-73.93759616034959"
       ]
      }
     ],
     "prompt_number": 54
    },
    {
     "cell_type": "markdown",
     "metadata": {},
     "source": [
      "## if doesnt have coordinates"
     ]
    },
    {
     "cell_type": "code",
     "collapsed": false,
     "input": [
      "from geopy import geocoders\n",
      "g = geocoders.GoogleV3()\n",
      "\n",
      "for record in data:\n",
      "    if record.split(',')[0] == '26416174':\n",
      "        print record\n",
      "        addr = str(record.split(',')[9]) + \", \" + str(record.split(',')[23])\n",
      "        print addr\n",
      "        place, (lat, lng) = g.geocode(addr)\n",
      "        break"
     ],
     "language": "python",
     "metadata": {},
     "outputs": [
      {
       "output_type": "stream",
       "stream": "stdout",
       "text": [
        "26416174,10/01/2013 06:50:34 PM,,DSNY,Department of Sanitation,Graffiti,Graffiti,,,203 clifon pl,clifon pl,,,,,ADDRESS,,,N/A,Open,,10/01/2013 06:50:34 PM,Unspecified BROOKLYN,BROOKLYN,,,Unspecified,BROOKLYN,Unspecified,Unspecified,Unspecified,Unspecified,Unspecified,Unspecified,Unspecified,Unspecified,Unspecified,,,,,,,,,,,,,,,\n",
        "\n",
        "203 clifon pl, BROOKLYN\n"
       ]
      }
     ],
     "prompt_number": 97
    },
    {
     "cell_type": "code",
     "collapsed": false,
     "input": [
      "from geopy import geocoders\n",
      "g = geocoders.GoogleV3()\n",
      "place, (lat, lng) = g.geocode(\"1356 farragut rd, brooklyn\")"
     ],
     "language": "python",
     "metadata": {},
     "outputs": [],
     "prompt_number": 89
    },
    {
     "cell_type": "code",
     "collapsed": false,
     "input": [
      "print \"%s: %f, %f\" % (place, lat, lng)"
     ],
     "language": "python",
     "metadata": {},
     "outputs": [
      {
       "output_type": "stream",
       "stream": "stdout",
       "text": [
        "203 Clifton Place, Brooklyn, NY 11216, USA: 40.688857, -73.955614\n"
       ]
      }
     ],
     "prompt_number": 98
    },
    {
     "cell_type": "code",
     "collapsed": false,
     "input": [
      "# lower manhattan\n",
      "\n",
      "import numpy as np\n",
      "import matplotlib.nxutils as nx\n",
      "verts = np.array([[40.726809, -73.971311], [40.744207, -74.013583], [40.707618, -74.023968], [40.698574, -74.018990], [40.709375, -73.976590]], float)\n",
      "nx.pnpoly(40.716401, -74.028603, verts)\n"
     ],
     "language": "python",
     "metadata": {},
     "outputs": [
      {
       "metadata": {},
       "output_type": "pyout",
       "prompt_number": 227,
       "text": [
        "0"
       ]
      }
     ],
     "prompt_number": 227
    },
    {
     "cell_type": "code",
     "collapsed": false,
     "input": [
      "nx.pnpoly(40.716401, -74.028603, verts)"
     ],
     "language": "python",
     "metadata": {},
     "outputs": [
      {
       "metadata": {},
       "output_type": "pyout",
       "prompt_number": 226,
       "text": [
        "0"
       ]
      }
     ],
     "prompt_number": 226
    },
    {
     "cell_type": "code",
     "collapsed": false,
     "input": [],
     "language": "python",
     "metadata": {},
     "outputs": []
    }
   ],
   "metadata": {}
  }
 ]
}